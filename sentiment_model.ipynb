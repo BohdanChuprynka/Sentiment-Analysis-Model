{
  "cells": [
    {
      "cell_type": "markdown",
      "metadata": {
        "id": "hmZP6n4SsE5u"
      },
      "source": [
        "# An Emotion Detection model that can identify the emotion of the people leaning on the text. It can be useful for analyzing the different statistics. For example: videos from youtube, tweets during certain period, game reviews, etc\n",
        "\n",
        "This notebook uses \"Sentiment140\" dataset from kaggle: https://www.kaggle.com/datasets/kazanova/sentiment140/code\n",
        "\n",
        "The model was created by https://github.com/BohdanChuprynka"
      ]
    },
    {
      "cell_type": "markdown",
      "metadata": {
        "id": "75ybBI9Tr9kq"
      },
      "source": [
        "## Import libraries"
      ]
    },
    {
      "cell_type": "code",
      "execution_count": null,
      "metadata": {
        "id": "_LnDYTXQsD_M"
      },
      "outputs": [],
      "source": [
        "import tensorflow as tf\n",
        "import numpy as np\n",
        "import pandas as pd\n",
        "import random\n",
        "import sklearn\n",
        "import kagglehub\n",
        "import os"
      ]
    },
    {
      "cell_type": "markdown",
      "metadata": {
        "id": "_MZCP4b4tH1f"
      },
      "source": [
        "## Download the dataset"
      ]
    },
    {
      "cell_type": "code",
      "execution_count": null,
      "metadata": {
        "colab": {
          "base_uri": "https://localhost:8080/"
        },
        "id": "DbbRgEdV_SDd",
        "outputId": "7fb71538-4748-4f69-b7d2-e7f03b0a6d71"
      },
      "outputs": [
        {
          "name": "stdout",
          "output_type": "stream",
          "text": [
            "Warning: Looks like you're using an outdated `kagglehub` version, please consider updating (latest version: 0.3.6)\n",
            "Path to dataset files: /Users/bohdan/.cache/kagglehub/datasets/kazanova/sentiment140/versions/2\n",
            "    target         ids                          date      flag  \\\n",
            "0        0  1467810369  Mon Apr 06 22:19:45 PDT 2009  NO_QUERY   \n",
            "1        0  1467810672  Mon Apr 06 22:19:49 PDT 2009  NO_QUERY   \n",
            "2        0  1467810917  Mon Apr 06 22:19:53 PDT 2009  NO_QUERY   \n",
            "3        0  1467811184  Mon Apr 06 22:19:57 PDT 2009  NO_QUERY   \n",
            "4        0  1467811193  Mon Apr 06 22:19:57 PDT 2009  NO_QUERY   \n",
            "5        0  1467811372  Mon Apr 06 22:20:00 PDT 2009  NO_QUERY   \n",
            "6        0  1467811592  Mon Apr 06 22:20:03 PDT 2009  NO_QUERY   \n",
            "7        0  1467811594  Mon Apr 06 22:20:03 PDT 2009  NO_QUERY   \n",
            "8        0  1467811795  Mon Apr 06 22:20:05 PDT 2009  NO_QUERY   \n",
            "9        0  1467812025  Mon Apr 06 22:20:09 PDT 2009  NO_QUERY   \n",
            "10       0  1467812416  Mon Apr 06 22:20:16 PDT 2009  NO_QUERY   \n",
            "11       0  1467812579  Mon Apr 06 22:20:17 PDT 2009  NO_QUERY   \n",
            "12       0  1467812723  Mon Apr 06 22:20:19 PDT 2009  NO_QUERY   \n",
            "13       0  1467812771  Mon Apr 06 22:20:19 PDT 2009  NO_QUERY   \n",
            "14       0  1467812784  Mon Apr 06 22:20:20 PDT 2009  NO_QUERY   \n",
            "\n",
            "               user                                               text  \n",
            "0   _TheSpecialOne_  @switchfoot http://twitpic.com/2y1zl - Awww, t...  \n",
            "1     scotthamilton  is upset that he can't update his Facebook by ...  \n",
            "2          mattycus  @Kenichan I dived many times for the ball. Man...  \n",
            "3           ElleCTF    my whole body feels itchy and like its on fire   \n",
            "4            Karoli  @nationwideclass no, it's not behaving at all....  \n",
            "5          joy_wolf                      @Kwesidei not the whole crew   \n",
            "6           mybirch                                        Need a hug   \n",
            "7              coZZ  @LOLTrish hey  long time no see! Yes.. Rains a...  \n",
            "8   2Hood4Hollywood               @Tatiana_K nope they didn't have it   \n",
            "9           mimismo                          @twittera que me muera ?   \n",
            "10   erinx3leannexo        spring break in plain city... it's snowing   \n",
            "11     pardonlauren                         I just re-pierced my ears   \n",
            "12             TLeC  @caregiving I couldn't bear to watch it.  And ...  \n",
            "13  robrobbierobert  @octolinz16 It it counts, idk why I did either...  \n",
            "14      bayofwolves  @smarrison i would've been the first, but i di...  \n"
          ]
        }
      ],
      "source": [
        "# Download the dataset\n",
        "root_path = os.getcwd()\n",
        "path = kagglehub.dataset_download(\"kazanova/sentiment140\")\n",
        "print(\"Path to dataset files:\", path)\n",
        "\n",
        "csv_path = os.path.join(path, \"training.1600000.processed.noemoticon.csv\")\n",
        "df = pd.read_csv(\n",
        "    csv_path,\n",
        "    encoding=\"latin-1\",\n",
        "    header=None,\n",
        "    names=[\"target\", \"ids\", \"date\", \"flag\", \"user\", \"text\"]\n",
        ")\n",
        "print(df.head(15))"
      ]
    },
    {
      "cell_type": "markdown",
      "metadata": {
        "id": "xlVbHXmm6nCZ"
      },
      "source": [
        "# Visualizing our data"
      ]
    },
    {
      "cell_type": "code",
      "execution_count": 27,
      "metadata": {
        "colab": {
          "base_uri": "https://localhost:8080/",
          "height": 463
        },
        "id": "rMMOwQvR0unL",
        "outputId": "76b15f7c-1c7d-4d74-e285-342d7367d0c7"
      },
      "outputs": [
        {
          "data": {
            "text/plain": [
              "<Figure size 1000x700 with 0 Axes>"
            ]
          },
          "execution_count": 27,
          "metadata": {},
          "output_type": "execute_result"
        },
        {
          "data": {
            "image/png": "[encoded data removed]",
            "text/plain": [
              "<Figure size 640x480 with 1 Axes>"
            ]
          },
          "metadata": {},
          "output_type": "display_data"
        },
        {
          "data": {
            "text/plain": [
              "<Figure size 1000x700 with 0 Axes>"
            ]
          },
          "metadata": {},
          "output_type": "display_data"
        }
      ],
      "source": [
        "import matplotlib.pyplot as plt\n",
        "# Count how much positives and negative is in our dataset\n",
        "# 1 == positive, 0 == negative.\n",
        "df_target = df[\"target\"].replace(4, 1)\n",
        "\n",
        "negative_values = df_target.value_counts()[0]\n",
        "positive_values = df_target.value_counts()[1]\n",
        "\n",
        "# Create a pie chart\n",
        "plt.pie(\n",
        "    [positive_values, negative_values],\n",
        "    labels=['Positive', 'Negative'],\n",
        "    autopct=\"%1.f%%\",\n",
        "    startangle=90,\n",
        "    colors=['green', 'red'],\n",
        "    wedgeprops=dict(width=.65),\n",
        "    labeldistance=1.1\n",
        ")\n",
        "plt.title(\"Label Distribution\")\n",
        "plt.figure(figsize=(10, 7))"
      ]
    },
    {
      "cell_type": "code",
      "execution_count": 31,
      "metadata": {
        "colab": {
          "base_uri": "https://localhost:8080/"
        },
        "id": "9dzaR9wT3Zag",
        "outputId": "cc3ea188-9669-4f88-d100-357a8b771e38"
      },
      "outputs": [
        {
          "data": {
            "text/plain": [
              "target\n",
              "0    800000\n",
              "4    800000\n",
              "Name: count, dtype: int64"
            ]
          },
          "execution_count": 31,
          "metadata": {},
          "output_type": "execute_result"
        }
      ],
      "source": [
        "positive_values = df[\"target\"].value_counts()\n",
        "positive_values"
      ]
    },
    {
      "cell_type": "code",
      "execution_count": 32,
      "metadata": {
        "colab": {
          "base_uri": "https://localhost:8080/",
          "height": 112
        },
        "id": "1cp6Qcjf5uBN",
        "outputId": "c7bfca31-facc-4755-8d8c-9d88031e724a"
      },
      "outputs": [
        {
          "data": {
            "text/html": [
              "<div>\n",
              "<style scoped>\n",
              "    .dataframe tbody tr th:only-of-type {\n",
              "        vertical-align: middle;\n",
              "    }\n",
              "\n",
              "    .dataframe tbody tr th {\n",
              "        vertical-align: top;\n",
              "    }\n",
              "\n",
              "    .dataframe thead th {\n",
              "        text-align: right;\n",
              "    }\n",
              "</style>\n",
              "<table border=\"1\" class=\"dataframe\">\n",
              "  <thead>\n",
              "    <tr style=\"text-align: right;\">\n",
              "      <th></th>\n",
              "      <th>target</th>\n",
              "      <th>count</th>\n",
              "    </tr>\n",
              "  </thead>\n",
              "  <tbody>\n",
              "    <tr>\n",
              "      <th>0</th>\n",
              "      <td>0</td>\n",
              "      <td>800000</td>\n",
              "    </tr>\n",
              "    <tr>\n",
              "      <th>1</th>\n",
              "      <td>1</td>\n",
              "      <td>800000</td>\n",
              "    </tr>\n",
              "  </tbody>\n",
              "</table>\n",
              "</div>"
            ],
            "text/plain": [
              "   target   count\n",
              "0       0  800000\n",
              "1       1  800000"
            ]
          },
          "execution_count": 32,
          "metadata": {},
          "output_type": "execute_result"
        }
      ],
      "source": [
        "df_1=df['target'].value_counts()\n",
        "df_target=pd.DataFrame(df_1)\n",
        "df_target=df_target.reset_index()\n",
        "df_target.columns = ['target', 'count']\n",
        "df_target['target'] = df_target['target'].apply(lambda x: 1 if x == 4 else x)\n",
        "\n",
        "# Now df_target DataFrame will have 1 for positive tweets and 0 for negative tweets\n",
        "df_target.head()"
      ]
    },
    {
      "cell_type": "code",
      "execution_count": 33,
      "metadata": {
        "colab": {
          "base_uri": "https://localhost:8080/"
        },
        "id": "CqwByMY567j7",
        "outputId": "cef5ee5c-6773-489f-c413-12927e207fab"
      },
      "outputs": [
        {
          "name": "stdout",
          "output_type": "stream",
          "text": [
            "Text: IDontFeelWell  &amp;Im Going To Flippin Pizza Express For Some Pizza That I Dont Want\n",
            "Label: 0\n",
            "Text: @royadotcom LAWL. K WHATEVER YOU ATTENTION WHORE. \n",
            "Label: 4\n",
            "Text: @suttygal Hey sutty! I got one of David's tweets today on my phone, but that's it.     Did you have a nice birthday? \n",
            "Label: 4\n"
          ]
        }
      ],
      "source": [
        "# Take amount of random sentences, see it's label and text\n",
        "def random_sentence(df, amount):\n",
        "  for i in range(amount):\n",
        "    random_index = random.randint(0, len(df[\"text\"]))\n",
        "    random_sentence = df[\"text\"][random_index]\n",
        "    random_label = df[\"target\"][random_index]\n",
        "\n",
        "    print(f\"Text: {random_sentence}\\nLabel: {random_label}\")\n",
        "\n",
        "random_sentence(df, 3)"
      ]
    },
    {
      "cell_type": "markdown",
      "metadata": {
        "id": "qXI6nBKKLURK"
      },
      "source": [
        "# Preprocessing our data\n",
        "\n",
        "Now, when we are explored our data, we are ready to preprocess it.\n",
        "Before we start, it would be useful to create a list of useful functions we need to create\n",
        "\n",
        "1. Delete HTML Tags\n",
        "2. Remove Punctuatiton\n",
        "3. Lowercase the text\n",
        "4. Replace all the user tags to \"@mention\"\n",
        "5. Remove duplicated spaces\n",
        "6. Delete stopwords\n",
        "7. Delete urls\n",
        "\n",
        "By doing the processing of our data, we will get better accuracy while training our model.\n",
        "\n",
        "Some functions were taken from this site by this author: https://www.kaggle.com/code/marianadeem755/exploring-twitter-sentiments-bilstm-logisticreg\n"
      ]
    },
    {
      "cell_type": "code",
      "execution_count": null,
      "metadata": {
        "colab": {
          "base_uri": "https://localhost:8080/"
        },
        "id": "8lpQLx1bMtMV",
        "outputId": "b8f0d510-1043-42f0-ff5f-b6b9a9a18371"
      },
      "outputs": [
        {
          "name": "stderr",
          "output_type": "stream",
          "text": [
            "[nltk_data] Downloading package stopwords to /root/nltk_data...\n",
            "[nltk_data]   Unzipping corpora/stopwords.zip.\n"
          ]
        }
      ],
      "source": [
        "import string\n",
        "import regex as re\n",
        "import nltk\n",
        "from nltk.corpus import stopwords\n",
        "nltk.download('stopwords')\n",
        "\n",
        "# 1. Delete HTML Tags\n",
        "def delete_html_tags(text):\n",
        "  clean_text = re.sub(r'<.*?>', '', text)\n",
        "  return clean_text\n",
        "\n",
        "# 2. Remove Punctuatiton\n",
        "def remove_punctuation(text):\n",
        "  return text.translate(str.maketrans('', '', string.punctuation))\n",
        "\n",
        "# 3. Lowercase the text\n",
        "def to_lowercase(text):\n",
        "  return text.lower()\n",
        "\n",
        "# 4. Replace all the user tags to \"@mention\"\n",
        "def remove_mention(text):\n",
        "  mention_regex = r\"@\\w+\"\n",
        "  return re.sub(mention_regex, \"@mention\", text)\n",
        "\n",
        "# 5. Remove duplicated spaces\n",
        "def remove_duplicate_whitespace(text):\n",
        "  return \" \".join(text.split())\n",
        "\n",
        "# 6. Delete stopwords\n",
        "def remove_stopwords(text):\n",
        "  stop_words = set(stopwords.words('english'))\n",
        "  words = text.split()\n",
        "  filtered_words = [word for word in words if word not in stopwords.words('english')]\n",
        "  return \" \".join(filtered_words)\n",
        "\n",
        "# 7. Delete urls\n",
        "def delete_url(text):\n",
        "  clean_text = re.sub(r'http\\S+', '', text)\n",
        "  return clean_text\n",
        "\n",
        "# Function to replace chat words\n",
        "def replace_chat_words(text):\n",
        "    chat_words = {\n",
        "        \"brb\": \"be right back\",\n",
        "        \"btw\": \"by the way\",\n",
        "        \"omg\": \"oh my goodness\",\n",
        "        \"ttyl\": \"talk to you later\",\n",
        "        \"omw\": \"on my way\",\n",
        "        \"smh\": \"shaking my head\",\n",
        "        \"smdh\": \"shaking my darn head\",\n",
        "        \"lol\": \"laugh out loud\",\n",
        "        \"tbd\": \"to be determined\",\n",
        "        \"imho\": \"in my humble opinion\",\n",
        "        \"imo\": \"in my opinion\",\n",
        "        \"hmu\": \"hit me up\",\n",
        "        \"iirc\": \"if I remember correctly\",\n",
        "        \"lmk\": \"let me know\",\n",
        "        \"og\": \"original gangsters\",\n",
        "        \"ftw\": \"for the win\",\n",
        "        \"nvm\": \"nevermind\",\n",
        "        \"ootd\": \"outfit of the day\",\n",
        "        \"ngl\": \"not gonna lie\",\n",
        "        \"rq\": \"real quick\",\n",
        "        \"iykyk\": \"if you know, you know\",\n",
        "        \"ong\": \"on god/I swear\",\n",
        "        \"yaaas\": \"yeah\",\n",
        "        \"brt\": \"be right there\",\n",
        "        \"sm\": \"so much\",\n",
        "        \"ig\": \"i guess\",\n",
        "        \"wya\": \"where you at\",\n",
        "        \"istg\": \"i swear to god\",\n",
        "        \"hbu\": \"how about you\",\n",
        "        \"atm\": \"at the moment\",\n",
        "        \"asap\": \"as soon as possible\",\n",
        "        \"fyi\": \"for your information\"\n",
        "    }\n",
        "    for shorten_word, full_word in chat_words.items():\n",
        "        text = text.replace(shorten_word, full_word)\n",
        "    return text"
      ]
    },
    {
      "cell_type": "code",
      "execution_count": null,
      "metadata": {
        "id": "fbP8UlPlC9XL"
      },
      "outputs": [],
      "source": [
        "import time\n",
        "\n",
        "def visualize_preprocessing(sentence):\n",
        "  \"\"\"\n",
        "  Function to visualize the preprocessing of the sentence\n",
        "\n",
        "  Args: sample sentence from the dataset.\n",
        "  \"\"\"\n",
        "\n",
        "  sentence = remove_mention(sentence)\n",
        "  print(f\"Mention removed: {sentence}\")\n",
        "  time.sleep(1)\n",
        "  sentence = delete_html_tags(sentence)\n",
        "  print(f\"Deleted html tags:{sentence}\")\n",
        "  time.sleep(1)\n",
        "  sentence = delete_url(sentence)\n",
        "  print(f\"Urls deleted: {sentence}\")\n",
        "  time.sleep(1)\n",
        "  sentence = remove_punctuation(sentence)\n",
        "  print(f\"Punctuation removed: {sentence}\")\n",
        "  time.sleep(1)\n",
        "  sentence = to_lowercase(sentence)\n",
        "  print(f\"Lowercase: {sentence}\")\n",
        "  time.sleep(1)\n",
        "  sentence = replace_chat_words(sentence)\n",
        "  print(f\"Replaced chat-words: {sentence}\")\n",
        "  time.sleep(1)\n",
        "  sentence = remove_stopwords(sentence)\n",
        "  print(f\"Removed stopwords: {sentence}\")\n",
        "  time.sleep(1)\n",
        "  sentence = remove_duplicate_whitespace(sentence)\n",
        "  print(f\"Whitespaces deleted: {sentence}\")\n",
        "  time.sleep(1)\n",
        "\n"
      ]
    },
    {
      "cell_type": "code",
      "execution_count": null,
      "metadata": {
        "id": "g7e367aoPo6z"
      },
      "outputs": [],
      "source": [
        "def preprocess_text(text):\n",
        "  text = delete_html_tags(text)\n",
        "  text = delete_url(text)\n",
        "  text = remove_mention(text)\n",
        "  text = remove_punctuation(text)\n",
        "  text = to_lowercase(text)\n",
        "  text = replace_chat_words(text)\n",
        "  text = remove_stopwords(text)\n",
        "  text = remove_duplicate_whitespace(text)\n",
        "\n",
        "\n",
        "  return text\n",
        "\n",
        "df[\"text\"] = df[\"text\"].apply(preprocess_text)\n",
        "df"
      ]
    },
    {
      "cell_type": "code",
      "execution_count": null,
      "metadata": {
        "id": "zatwAQ5b5Bzu"
      },
      "outputs": [],
      "source": [
        "df.to_csv(os.path.join(root_path, \"preprocessed.csv\"), index=False)\n",
        "del df"
      ]
    },
    {
      "cell_type": "markdown",
      "metadata": {
        "id": "EB2JKmbxBsap"
      },
      "source": [
        "# Loading a data"
      ]
    },
    {
      "cell_type": "code",
      "execution_count": null,
      "metadata": {},
      "outputs": [],
      "source": [
        "# Load the saved dataset \n",
        "preprocessed_df = pd.read_csv(os.path.join(root_path, \"preprocessed.csv\"))"
      ]
    },
    {
      "cell_type": "code",
      "execution_count": 34,
      "metadata": {
        "colab": {
          "base_uri": "https://localhost:8080/",
          "height": 424
        },
        "id": "7y0-d_8PvD46",
        "outputId": "d1b569ad-b731-47a5-ff62-cefc66b8b7a8"
      },
      "outputs": [
        {
          "ename": "NameError",
          "evalue": "name 'preprocessed_df' is not defined",
          "output_type": "error",
          "traceback": [
            "\u001b[0;31m---------------------------------------------------------------------------\u001b[0m",
            "\u001b[0;31mNameError\u001b[0m                                 Traceback (most recent call last)",
            "Cell \u001b[0;32mIn[34], line 1\u001b[0m\n\u001b[0;32m----> 1\u001b[0m preprocessed_df[\u001b[38;5;124m\"\u001b[39m\u001b[38;5;124mtarget\u001b[39m\u001b[38;5;124m\"\u001b[39m] \u001b[38;5;241m=\u001b[39m preprocessed_df[\u001b[38;5;124m\"\u001b[39m\u001b[38;5;124mtarget\u001b[39m\u001b[38;5;124m\"\u001b[39m]\u001b[38;5;241m.\u001b[39mreplace(\u001b[38;5;241m4\u001b[39m, \u001b[38;5;241m1\u001b[39m)\n\u001b[1;32m      2\u001b[0m preprocessed_df[:\u001b[38;5;241m-\u001b[39m\u001b[38;5;241m5\u001b[39m]\n",
            "\u001b[0;31mNameError\u001b[0m: name 'preprocessed_df' is not defined"
          ]
        }
      ],
      "source": [
        "# Replace positive label 4 to label 1\n",
        "preprocessed_df[\"target\"] = preprocessed_df[\"target\"].replace(4, 1)\n",
        "preprocessed_df[:-5]"
      ]
    },
    {
      "cell_type": "code",
      "execution_count": null,
      "metadata": {
        "id": "acLW7DpPTfcR"
      },
      "outputs": [],
      "source": [
        "# Delete a columns that won't really affect our accuracy.\n",
        "preprocessed_df = preprocessed_df.drop([\"ids\", \"flag\", \"user\", \"Unnamed: 0\"], axis=1)"
      ]
    },
    {
      "cell_type": "code",
      "execution_count": null,
      "metadata": {
        "colab": {
          "base_uri": "https://localhost:8080/"
        },
        "id": "y30GZBwU76jg",
        "outputId": "e8fa6f70-e853-4097-968e-094ff6349613"
      },
      "outputs": [
        {
          "data": {
            "text/plain": [
              "0"
            ]
          },
          "execution_count": 16,
          "metadata": {},
          "output_type": "execute_result"
        }
      ],
      "source": [
        "# Delete NANs\n",
        "\n",
        "# How many NAN values are in our dataset\n",
        "preprocessed_df.isnull().sum().sum()\n",
        "\n",
        "# Drop NANs\n",
        "preprocessed_df = preprocessed_df.dropna()\n",
        "\n",
        "# More NANs? \n",
        "preprocessed_df.isnull().sum().sum()"
      ]
    },
    {
      "cell_type": "code",
      "execution_count": null,
      "metadata": {
        "colab": {
          "base_uri": "https://localhost:8080/",
          "height": 285
        },
        "id": "-eKTx86CIC5-",
        "outputId": "4f02762d-84c1-4cf1-9d0f-56c5e3eb5938"
      },
      "outputs": [
        {
          "data": {
            "image/png": "[encoded data removed]",
            "text/plain": [
              "<Figure size 640x480 with 1 Axes>"
            ]
          },
          "metadata": {},
          "output_type": "display_data"
        }
      ],
      "source": [
        "# Create a wordcloud to visualize our most used words\n",
        "from wordcloud import WordCloud\n",
        "wordcloud = WordCloud(collocations = False, background_color = 'white').generate(str(preprocessed_df[\"text\"]))\n",
        "# Display the generated Word Cloud\n",
        "plt.imshow(wordcloud, interpolation='bilinear')\n",
        "plt.axis(\"off\")\n",
        "plt.show()"
      ]
    },
    {
      "cell_type": "code",
      "execution_count": null,
      "metadata": {
        "colab": {
          "base_uri": "https://localhost:8080/"
        },
        "id": "MLJf3eAr1bSi",
        "outputId": "51bb8c51-b900-4ce6-b70d-05ad069035aa"
      },
      "outputs": [
        {
          "data": {
            "text/plain": [
              "(479879, 15996)"
            ]
          },
          "execution_count": 21,
          "metadata": {},
          "output_type": "execute_result"
        }
      ],
      "source": [
        "# Split our data into train and validation sets\n",
        "from sklearn.model_selection import train_test_split\n",
        "train_dataset, val_dataset = train_test_split(preprocessed_df,\n",
        "                                              train_size=0.3, # Drop some of the dataset since collab don't give that much cache to work\n",
        "                                                              # with that much data\n",
        "                                              test_size=0.01,\n",
        "                                              shuffle=True)\n",
        "len(train_dataset), len(val_dataset)"
      ]
    },
    {
      "cell_type": "code",
      "execution_count": null,
      "metadata": {
        "colab": {
          "base_uri": "https://localhost:8080/",
          "height": 363
        },
        "id": "x7lB51p12GR6",
        "outputId": "18752ee0-86fc-43d6-84db-38cb7deda229"
      },
      "outputs": [
        {
          "data": {
            "application/vnd.google.colaboratory.intrinsic+json": {
              "summary": "{\n  \"name\": \"train_df[:10]\",\n  \"rows\": 10,\n  \"fields\": [\n    {\n      \"column\": \"target\",\n      \"properties\": {\n        \"dtype\": \"number\",\n        \"std\": 0,\n        \"min\": 0,\n        \"max\": 1,\n        \"num_unique_values\": 2,\n        \"samples\": [\n          0,\n          1\n        ],\n        \"semantic_type\": \"\",\n        \"description\": \"\"\n      }\n    },\n    {\n      \"column\": \"date\",\n      \"properties\": {\n        \"dtype\": \"string\",\n        \"num_unique_values\": 10,\n        \"samples\": [\n          \"Mon Jun 15 18:13:56 PDT 2009\",\n          \"Thu May 28 21:45:05 PDT 2009\"\n        ],\n        \"semantic_type\": \"\",\n        \"description\": \"\"\n      }\n    },\n    {\n      \"column\": \"text\",\n      \"properties\": {\n        \"dtype\": \"string\",\n        \"num_unique_values\": 10,\n        \"samples\": [\n          \"three days hi guessh school 2 finals graduation ceramony held\",\n          \"eric ronnick looks lot like brendon uriewell sometimes laugh loud im hungry home could get something fridge\"\n        ],\n        \"semantic_type\": \"\",\n        \"description\": \"\"\n      }\n    }\n  ]\n}",
              "type": "dataframe"
            },
            "text/html": [
              "\n",
              "  <div id=\"df-eba3b43f-e217-470d-846d-bc43bcaf7dd1\" class=\"colab-df-container\">\n",
              "    <div>\n",
              "<style scoped>\n",
              "    .dataframe tbody tr th:only-of-type {\n",
              "        vertical-align: middle;\n",
              "    }\n",
              "\n",
              "    .dataframe tbody tr th {\n",
              "        vertical-align: top;\n",
              "    }\n",
              "\n",
              "    .dataframe thead th {\n",
              "        text-align: right;\n",
              "    }\n",
              "</style>\n",
              "<table border=\"1\" class=\"dataframe\">\n",
              "  <thead>\n",
              "    <tr style=\"text-align: right;\">\n",
              "      <th></th>\n",
              "      <th>target</th>\n",
              "      <th>date</th>\n",
              "      <th>text</th>\n",
              "    </tr>\n",
              "  </thead>\n",
              "  <tbody>\n",
              "    <tr>\n",
              "      <th>914539</th>\n",
              "      <td>1</td>\n",
              "      <td>Sat May 09 23:21:44 PDT 2009</td>\n",
              "      <td>calling mothers calling mothersget butts bed k...</td>\n",
              "    </tr>\n",
              "    <tr>\n",
              "      <th>157446</th>\n",
              "      <td>0</td>\n",
              "      <td>Thu May 28 21:45:05 PDT 2009</td>\n",
              "      <td>eric ronnick looks lot like brendon uriewell s...</td>\n",
              "    </tr>\n",
              "    <tr>\n",
              "      <th>641367</th>\n",
              "      <td>0</td>\n",
              "      <td>Fri Jun 19 00:43:12 PDT 2009</td>\n",
              "      <td>ri guessht bathroom floor wont clean life lead</td>\n",
              "    </tr>\n",
              "    <tr>\n",
              "      <th>1232110</th>\n",
              "      <td>1</td>\n",
              "      <td>Mon Jun 01 07:50:31 PDT 2009</td>\n",
              "      <td>3 milesthought id 35 thats okay gettin sweat</td>\n",
              "    </tr>\n",
              "    <tr>\n",
              "      <th>1161001</th>\n",
              "      <td>1</td>\n",
              "      <td>Sun May 31 03:12:15 PDT 2009</td>\n",
              "      <td>dont forget watch mtv movie awards new moon tr...</td>\n",
              "    </tr>\n",
              "    <tr>\n",
              "      <th>69690</th>\n",
              "      <td>0</td>\n",
              "      <td>Sun May 03 22:24:57 PDT 2009</td>\n",
              "      <td>extremely uncomfortable bed tummy ache im home...</td>\n",
              "    </tr>\n",
              "    <tr>\n",
              "      <th>410114</th>\n",
              "      <td>0</td>\n",
              "      <td>Sat Jun 06 17:40:07 PDT 2009</td>\n",
              "      <td>jus sittn room soo bored new dis decided 2 joi...</td>\n",
              "    </tr>\n",
              "    <tr>\n",
              "      <th>240079</th>\n",
              "      <td>0</td>\n",
              "      <td>Sun May 31 07:35:42 PDT 2009</td>\n",
              "      <td>mention know im sad missed</td>\n",
              "    </tr>\n",
              "    <tr>\n",
              "      <th>1559208</th>\n",
              "      <td>1</td>\n",
              "      <td>Mon Jun 15 18:13:56 PDT 2009</td>\n",
              "      <td>three days hi guessh school 2 finals graduatio...</td>\n",
              "    </tr>\n",
              "    <tr>\n",
              "      <th>1295799</th>\n",
              "      <td>1</td>\n",
              "      <td>Tue Jun 02 07:11:37 PDT 2009</td>\n",
              "      <td>mention tried millions laugh loud entered comp...</td>\n",
              "    </tr>\n",
              "  </tbody>\n",
              "</table>\n",
              "</div>\n",
              "    <div class=\"colab-df-buttons\">\n",
              "\n",
              "  <div class=\"colab-df-container\">\n",
              "    <button class=\"colab-df-convert\" onclick=\"convertToInteractive('df-eba3b43f-e217-470d-846d-bc43bcaf7dd1')\"\n",
              "            title=\"Convert this dataframe to an interactive table.\"\n",
              "            style=\"display:none;\">\n",
              "\n",
              "  <svg xmlns=\"http://www.w3.org/2000/svg\" height=\"24px\" viewBox=\"0 -960 960 960\">\n",
              "    <path d=\"M120-120v-720h720v720H120Zm60-500h600v-160H180v160Zm220 220h160v-160H400v160Zm0 220h160v-160H400v160ZM180-400h160v-160H180v160Zm440 0h160v-160H620v160ZM180-180h160v-160H180v160Zm440 0h160v-160H620v160Z\"/>\n",
              "  </svg>\n",
              "    </button>\n",
              "\n",
              "  <style>\n",
              "    .colab-df-container {\n",
              "      display:flex;\n",
              "      gap: 12px;\n",
              "    }\n",
              "\n",
              "    .colab-df-convert {\n",
              "      background-color: #E8F0FE;\n",
              "      border: none;\n",
              "      border-radius: 50%;\n",
              "      cursor: pointer;\n",
              "      display: none;\n",
              "      fill: #1967D2;\n",
              "      height: 32px;\n",
              "      padding: 0 0 0 0;\n",
              "      width: 32px;\n",
              "    }\n",
              "\n",
              "    .colab-df-convert:hover {\n",
              "      background-color: #E2EBFA;\n",
              "      box-shadow: 0px 1px 2px rgba(60, 64, 67, 0.3), 0px 1px 3px 1px rgba(60, 64, 67, 0.15);\n",
              "      fill: #174EA6;\n",
              "    }\n",
              "\n",
              "    .colab-df-buttons div {\n",
              "      margin-bottom: 4px;\n",
              "    }\n",
              "\n",
              "    [theme=dark] .colab-df-convert {\n",
              "      background-color: #3B4455;\n",
              "      fill: #D2E3FC;\n",
              "    }\n",
              "\n",
              "    [theme=dark] .colab-df-convert:hover {\n",
              "      background-color: #434B5C;\n",
              "      box-shadow: 0px 1px 3px 1px rgba(0, 0, 0, 0.15);\n",
              "      filter: drop-shadow(0px 1px 2px rgba(0, 0, 0, 0.3));\n",
              "      fill: #FFFFFF;\n",
              "    }\n",
              "  </style>\n",
              "\n",
              "    <script>\n",
              "      const buttonEl =\n",
              "        document.querySelector('#df-eba3b43f-e217-470d-846d-bc43bcaf7dd1 button.colab-df-convert');\n",
              "      buttonEl.style.display =\n",
              "        google.colab.kernel.accessAllowed ? 'block' : 'none';\n",
              "\n",
              "      async function convertToInteractive(key) {\n",
              "        const element = document.querySelector('#df-eba3b43f-e217-470d-846d-bc43bcaf7dd1');\n",
              "        const dataTable =\n",
              "          await google.colab.kernel.invokeFunction('convertToInteractive',\n",
              "                                                    [key], {});\n",
              "        if (!dataTable) return;\n",
              "\n",
              "        const docLinkHtml = 'Like what you see? Visit the ' +\n",
              "          '<a target=\"_blank\" href=https://colab.research.google.com/notebooks/data_table.ipynb>data table notebook</a>'\n",
              "          + ' to learn more about interactive tables.';\n",
              "        element.innerHTML = '';\n",
              "        dataTable['output_type'] = 'display_data';\n",
              "        await google.colab.output.renderOutput(dataTable, element);\n",
              "        const docLink = document.createElement('div');\n",
              "        docLink.innerHTML = docLinkHtml;\n",
              "        element.appendChild(docLink);\n",
              "      }\n",
              "    </script>\n",
              "  </div>\n",
              "\n",
              "\n",
              "<div id=\"df-f1f421f4-32c2-4e7b-9f38-d2ec794ca269\">\n",
              "  <button class=\"colab-df-quickchart\" onclick=\"quickchart('df-f1f421f4-32c2-4e7b-9f38-d2ec794ca269')\"\n",
              "            title=\"Suggest charts\"\n",
              "            style=\"display:none;\">\n",
              "\n",
              "<svg xmlns=\"http://www.w3.org/2000/svg\" height=\"24px\"viewBox=\"0 0 24 24\"\n",
              "     width=\"24px\">\n",
              "    <g>\n",
              "        <path d=\"M19 3H5c-1.1 0-2 .9-2 2v14c0 1.1.9 2 2 2h14c1.1 0 2-.9 2-2V5c0-1.1-.9-2-2-2zM9 17H7v-7h2v7zm4 0h-2V7h2v10zm4 0h-2v-4h2v4z\"/>\n",
              "    </g>\n",
              "</svg>\n",
              "  </button>\n",
              "\n",
              "<style>\n",
              "  .colab-df-quickchart {\n",
              "      --bg-color: #E8F0FE;\n",
              "      --fill-color: #1967D2;\n",
              "      --hover-bg-color: #E2EBFA;\n",
              "      --hover-fill-color: #174EA6;\n",
              "      --disabled-fill-color: #AAA;\n",
              "      --disabled-bg-color: #DDD;\n",
              "  }\n",
              "\n",
              "  [theme=dark] .colab-df-quickchart {\n",
              "      --bg-color: #3B4455;\n",
              "      --fill-color: #D2E3FC;\n",
              "      --hover-bg-color: #434B5C;\n",
              "      --hover-fill-color: #FFFFFF;\n",
              "      --disabled-bg-color: #3B4455;\n",
              "      --disabled-fill-color: #666;\n",
              "  }\n",
              "\n",
              "  .colab-df-quickchart {\n",
              "    background-color: var(--bg-color);\n",
              "    border: none;\n",
              "    border-radius: 50%;\n",
              "    cursor: pointer;\n",
              "    display: none;\n",
              "    fill: var(--fill-color);\n",
              "    height: 32px;\n",
              "    padding: 0;\n",
              "    width: 32px;\n",
              "  }\n",
              "\n",
              "  .colab-df-quickchart:hover {\n",
              "    background-color: var(--hover-bg-color);\n",
              "    box-shadow: 0 1px 2px rgba(60, 64, 67, 0.3), 0 1px 3px 1px rgba(60, 64, 67, 0.15);\n",
              "    fill: var(--button-hover-fill-color);\n",
              "  }\n",
              "\n",
              "  .colab-df-quickchart-complete:disabled,\n",
              "  .colab-df-quickchart-complete:disabled:hover {\n",
              "    background-color: var(--disabled-bg-color);\n",
              "    fill: var(--disabled-fill-color);\n",
              "    box-shadow: none;\n",
              "  }\n",
              "\n",
              "  .colab-df-spinner {\n",
              "    border: 2px solid var(--fill-color);\n",
              "    border-color: transparent;\n",
              "    border-bottom-color: var(--fill-color);\n",
              "    animation:\n",
              "      spin 1s steps(1) infinite;\n",
              "  }\n",
              "\n",
              "  @keyframes spin {\n",
              "    0% {\n",
              "      border-color: transparent;\n",
              "      border-bottom-color: var(--fill-color);\n",
              "      border-left-color: var(--fill-color);\n",
              "    }\n",
              "    20% {\n",
              "      border-color: transparent;\n",
              "      border-left-color: var(--fill-color);\n",
              "      border-top-color: var(--fill-color);\n",
              "    }\n",
              "    30% {\n",
              "      border-color: transparent;\n",
              "      border-left-color: var(--fill-color);\n",
              "      border-top-color: var(--fill-color);\n",
              "      border-right-color: var(--fill-color);\n",
              "    }\n",
              "    40% {\n",
              "      border-color: transparent;\n",
              "      border-right-color: var(--fill-color);\n",
              "      border-top-color: var(--fill-color);\n",
              "    }\n",
              "    60% {\n",
              "      border-color: transparent;\n",
              "      border-right-color: var(--fill-color);\n",
              "    }\n",
              "    80% {\n",
              "      border-color: transparent;\n",
              "      border-right-color: var(--fill-color);\n",
              "      border-bottom-color: var(--fill-color);\n",
              "    }\n",
              "    90% {\n",
              "      border-color: transparent;\n",
              "      border-bottom-color: var(--fill-color);\n",
              "    }\n",
              "  }\n",
              "</style>\n",
              "\n",
              "  <script>\n",
              "    async function quickchart(key) {\n",
              "      const quickchartButtonEl =\n",
              "        document.querySelector('#' + key + ' button');\n",
              "      quickchartButtonEl.disabled = true;  // To prevent multiple clicks.\n",
              "      quickchartButtonEl.classList.add('colab-df-spinner');\n",
              "      try {\n",
              "        const charts = await google.colab.kernel.invokeFunction(\n",
              "            'suggestCharts', [key], {});\n",
              "      } catch (error) {\n",
              "        console.error('Error during call to suggestCharts:', error);\n",
              "      }\n",
              "      quickchartButtonEl.classList.remove('colab-df-spinner');\n",
              "      quickchartButtonEl.classList.add('colab-df-quickchart-complete');\n",
              "    }\n",
              "    (() => {\n",
              "      let quickchartButtonEl =\n",
              "        document.querySelector('#df-f1f421f4-32c2-4e7b-9f38-d2ec794ca269 button');\n",
              "      quickchartButtonEl.style.display =\n",
              "        google.colab.kernel.accessAllowed ? 'block' : 'none';\n",
              "    })();\n",
              "  </script>\n",
              "</div>\n",
              "\n",
              "    </div>\n",
              "  </div>\n"
            ],
            "text/plain": [
              "         target                          date  \\\n",
              "914539        1  Sat May 09 23:21:44 PDT 2009   \n",
              "157446        0  Thu May 28 21:45:05 PDT 2009   \n",
              "641367        0  Fri Jun 19 00:43:12 PDT 2009   \n",
              "1232110       1  Mon Jun 01 07:50:31 PDT 2009   \n",
              "1161001       1  Sun May 31 03:12:15 PDT 2009   \n",
              "69690         0  Sun May 03 22:24:57 PDT 2009   \n",
              "410114        0  Sat Jun 06 17:40:07 PDT 2009   \n",
              "240079        0  Sun May 31 07:35:42 PDT 2009   \n",
              "1559208       1  Mon Jun 15 18:13:56 PDT 2009   \n",
              "1295799       1  Tue Jun 02 07:11:37 PDT 2009   \n",
              "\n",
              "                                                      text  \n",
              "914539   calling mothers calling mothersget butts bed k...  \n",
              "157446   eric ronnick looks lot like brendon uriewell s...  \n",
              "641367      ri guessht bathroom floor wont clean life lead  \n",
              "1232110       3 milesthought id 35 thats okay gettin sweat  \n",
              "1161001  dont forget watch mtv movie awards new moon tr...  \n",
              "69690    extremely uncomfortable bed tummy ache im home...  \n",
              "410114   jus sittn room soo bored new dis decided 2 joi...  \n",
              "240079                          mention know im sad missed  \n",
              "1559208  three days hi guessh school 2 finals graduatio...  \n",
              "1295799  mention tried millions laugh loud entered comp...  "
            ]
          },
          "execution_count": 22,
          "metadata": {},
          "output_type": "execute_result"
        }
      ],
      "source": [
        "train_df = pd.DataFrame(train_dataset)\n",
        "val_df = pd.DataFrame(val_dataset)\n",
        "train_df[:10]"
      ]
    },
    {
      "cell_type": "markdown",
      "metadata": {
        "id": "haEIBu9K9fGf"
      },
      "source": [
        "### Preprocessing our sentences"
      ]
    },
    {
      "cell_type": "code",
      "execution_count": null,
      "metadata": {
        "colab": {
          "base_uri": "https://localhost:8080/"
        },
        "id": "FpmtXwi49LcE",
        "outputId": "f8ddf46b-0a5a-4995-bb5f-bb817076b0aa"
      },
      "outputs": [
        {
          "data": {
            "text/plain": [
              "['calling mothers calling mothersget butts bed kidsll tomorrow',\n",
              " 'eric ronnick looks lot like brendon uriewell sometimes laugh loud im hungry home could get something fridge',\n",
              " 'ri guessht bathroom floor wont clean life lead',\n",
              " '3 milesthought id 35 thats okay gettin sweat',\n",
              " 'dont forget watch mtv movie awards new moon trailer',\n",
              " 'extremely uncomfortable bed tummy ache im home sick',\n",
              " 'jus sittn room soo bored new dis decided 2 join cuz seen katie nd peter stateside pretty awesome xxx',\n",
              " 'mention know im sad missed',\n",
              " 'three days hi guessh school 2 finals graduation ceramony held',\n",
              " 'mention tried millions laugh loud entered competition capital fm website wonnnn eeeeeek',\n",
              " 'mention r u need bestie',\n",
              " 'aeroport waiting plane land take us back homeill miss puerto rico',\n",
              " 'mention oh jess hope person ok',\n",
              " 'mention oh ok still install things wont able watch anything',\n",
              " 'beloved 40d stinks literally muchell beer ci guessarettes feels like woah niet rox',\n",
              " 'jb miss random tweets bagels stuff',\n",
              " 'mention yeah im meeting group tailgate ok ni guesshty kni guessht real laugh loud',\n",
              " 'mention yummy thanks cake',\n",
              " 'wishes chance see isabeyli hillclimb',\n",
              " 'mua mÃ¡ÂºÂ¥y cuÃ¡Â»Â\\x91n sÃ£Â¡ch vÃ£ 2 cÃ£Â¡i Ã¤Â\\x91Ã£Â¹i cÃ¡Â»Â«u xon god/I swear bÃ£Â¢y giÃ¡Â» khÃ£Â´ng cÃ£Â²n bÃ£Â¡nh mÃ£Â¬ mÃ£ Ã¤Â\\x83n',\n",
              " 'finding hard motivate work blame recent mention landed doorstep morning',\n",
              " 'mention youll one soon promise',\n",
              " 'starts last official monday junior year yo tengo sueno',\n",
              " 'mention know option get',\n",
              " 'yes finally twitter phone got free internet',\n",
              " 'back concert oh goodness lagan college da best singers ever yaya went visit one besties amy wasnt xoxo',\n",
              " 'mention one',\n",
              " 'looking foward gym class today',\n",
              " 'mention mention much fun guys',\n",
              " 'mention thanks',\n",
              " 'cant help feel bad cuz reba feels bad',\n",
              " 'gran turiso mucho psp ff13 pc ask gran turiso mucho 5 pc perhaps',\n",
              " 'mamaya',\n",
              " 'catching last rays pool heading airport',\n",
              " 'back burnt 2 nice crisp mention fire rite nite twits 2mrrw another day sun lmao',\n",
              " 'en route kfc celebrate end school',\n",
              " 'mention true im going give im quitter',\n",
              " 'im tagging thoughts ringhunt clues ringhunt mention joy 2vc im babysitting',\n",
              " 'wish human followers',\n",
              " 'love good dreams heres interesting beaches today',\n",
              " 'going go bed soon guys x',\n",
              " 'much anything good nothing even happiness',\n",
              " 'mention checkin ri guessht',\n",
              " 'mention janna said',\n",
              " 'tiredhave pack stuff evening dont want',\n",
              " 'yay finally fi guessuring crochet squares ok kinda crap still',\n",
              " 'window open still hot hell',\n",
              " 'got email saying quotkaty perryquot following twitter sadly dotn think real katy tho',\n",
              " 'mention hey mate thanks contacting us keep chat cool robot way',\n",
              " 'gone',\n",
              " 'anyone wanna try reschedulencnk mention today tried post threads nkotbcom havent gotten response',\n",
              " 'mention 90s toni guessht',\n",
              " 'hw text',\n",
              " 'another gloriously sunny day',\n",
              " 'pretty bored wish mentions parents would let come house',\n",
              " 'motivated work tired',\n",
              " 'beautiful little girl named kimberly thrilled welcome clan cousins',\n",
              " 'mention havent seen tweets day jon',\n",
              " 'mention hope boob job goes well',\n",
              " 'sleepin pretty peace yall twiick iit',\n",
              " 'mention yes name facebook',\n",
              " 'happy monday',\n",
              " 'mention definitely send url blori guessinal gangsters set id love read',\n",
              " 'jamba need homework',\n",
              " 'mention cancel final solo show tafe builders next door bashing things head imploding',\n",
              " 'mention miss',\n",
              " 'mapssss need',\n",
              " 'uploading nowwwww check page xd',\n",
              " 'back killing need massage',\n",
              " 'mention sucks',\n",
              " 'spent whole dream cooking delicious meal woke got try',\n",
              " 'mention dont ask anything shut',\n",
              " 'mention 30 quid 44 depends ones get laugh loud awr yey haha xx',\n",
              " 'mention nice nasty burger n good sausage sandwich sang lots karaoke haha',\n",
              " 'mention mornin r u also taking pres vet hope hes ok send luv',\n",
              " 'kimmie called crazy',\n",
              " 'mention real deal yeah gonna rule promise expect genius mailart',\n",
              " 'ass spazzing reason think time get fresh air',\n",
              " 'mention ill admit id heard thats impressive uve climbed 30 times u event',\n",
              " 'mention happy birthday want go depeche mode concert',\n",
              " 'mention tuko wengi mami tuko wengi sana hows sato',\n",
              " 'back first youth group meeting cant wait go rollerskating weeks time excited',\n",
              " 'fever ray good food hundreds photos textiles major',\n",
              " 'mention ergh um year points expire boo',\n",
              " 'mention mmmm remember',\n",
              " 'officially meet lauren conrad today gooood ni guessht',\n",
              " 'mention thats sweet secret chocolate lots chocolate',\n",
              " 'mention aww feel lonely',\n",
              " 'wood n tap red cap family',\n",
              " 'id get secondhand collarbone could one killin ouch prob much typing somesuch',\n",
              " 'mention hey demi like reality tv shows wondering',\n",
              " 'keyboard cat trendy keyboard cat video days ago one cared',\n",
              " 'mention lmfao ahah yeah paula soo nice jersey today 80s im happy laugh loud',\n",
              " 'sunbang goes trip beach',\n",
              " 'driving poleg back morning fb',\n",
              " 'ah1n1 virus la salle classes 10 days shucks',\n",
              " 'foot swollen',\n",
              " 'dotted liz baby',\n",
              " 'stomachache hurt much',\n",
              " 'mention stop move forward move forward life waiting',\n",
              " 'mention sent',\n",
              " 'turning bed want leave something behind always',\n",
              " 'weather amazing im stuck inside work cough cough uhhh im feeling sick day coming laugh loud',\n",
              " 'mention goina look awwsum xox',\n",
              " 'mention cant wait',\n",
              " 'mention haha got twitter',\n",
              " 'mention promise theres cliffhanger book 6',\n",
              " 'mention damn thing im bored hell u',\n",
              " 'mention cares',\n",
              " 'mention also im sure disappointment statham lost finale wouldnt awesome jacob',\n",
              " 'downloaded taylor swift bauer got hooked',\n",
              " 'leaving',\n",
              " 'hope every1 havin good time nyc pr parade parties im mansion wit baby ace happy bday 2',\n",
              " 'mention love video',\n",
              " 'mention definitely meani didnt make plans todaybecause thought would studying daybut didnt happened',\n",
              " 'im allergic reaction silver earings',\n",
              " 'mention one little thing huh sunday school appreciation dinner im sad didnt get go nothing',\n",
              " 'mention um follow please im still trying fi guessure twitter twittering',\n",
              " 'mention hid gun shoe use necessary',\n",
              " 'wow busy time tweet',\n",
              " 'wassup dancin writin knowin im sexy hangin attractive friends mention',\n",
              " 'practiceee',\n",
              " 'oh gosh rip farrah fawcett people always base shes gone tragic',\n",
              " 'mention lon god/I swear barcelona awesome city 910months weather amazing',\n",
              " 'worst headache allergies',\n",
              " 'jaydiohead quotno karmaquot musicmonday android looking itll',\n",
              " 'back home chillingout sooo glad weekend tgif',\n",
              " 'mention aw dont sound like dear making heart hurt',\n",
              " 'trvsdjam mixtape didnt work',\n",
              " 'celebrating birthday today yay',\n",
              " 'last ni guessht dance recital ever sad',\n",
              " 'mention flim jafaking version film extra ladies l goes first',\n",
              " 'mention biolori guessinal gangstersical clock goin hiwired',\n",
              " 'toni guessht pretty fun shower relaxing read breaking dawn lil bit',\n",
              " 'mention starting get hang although cant seem fi guessure delete item library tab crazy',\n",
              " 'pissed got speeding ticket 35 mph 30 zone feel robbed',\n",
              " 'mention safe trip',\n",
              " 'topanga danielle fishel gets nailed dui hope',\n",
              " 'done jacck day misssing playing soccer beeen 3 weeks want something fun toni guessht',\n",
              " 'mention',\n",
              " 'mention cant quite fi guessure mean assuming something deep andor witty',\n",
              " 'hello chums mentionmention mention chums x',\n",
              " 'jonas brothers guilty pleasure',\n",
              " 'ahh love vicar dibley',\n",
              " 'mention mean teeaarr',\n",
              " 'fast',\n",
              " 'mention happened freestufffriday waited whole ni guessht hope possible uncharted 2 code',\n",
              " 'mention hehehe different occasion',\n",
              " 'science quot doind practice paper boreddddd',\n",
              " 'mention get',\n",
              " 'mention rthx',\n",
              " 'mention hahahahahahahahahaha beatty bt coooooool man cuz scold expressing love',\n",
              " 'ahh tofu lindsay cuddlin potato baby bad 126 late rent fee sitting shoulder',\n",
              " 'im crying like baby cause im watching sam',\n",
              " 'mention lon god/I swearg ill lon god/I swear gone',\n",
              " 'mention sad isnt pirate party got seat maybe two sweden intri guessuinot gonna liey',\n",
              " 'mention stopped mayahuel quick drink way home work missed',\n",
              " 'twitcon blag sales people twitter',\n",
              " 'mention im surprised didnt find post sarcastic im didnt take wron god/I swear way quotshaaaaaaaawdyquot',\n",
              " 'mention comes london dates tour nooooooo',\n",
              " 'mention urgh stop guys',\n",
              " 'im still ill week',\n",
              " 'mention get fb message',\n",
              " 'got back zoo twas ot fun girl',\n",
              " 'mention raymond youre silly goose thats',\n",
              " 'mention new zealand show august',\n",
              " 'shouldnt went 2 bed early im thinkin way 2 much',\n",
              " 'finished picture little ago incredibly incredibly pleased',\n",
              " 'mention mention felton guys going try',\n",
              " 'home bored amp hell somebody come play',\n",
              " 'really loss without whiskers keep expecting run gutted absolutely gutted',\n",
              " 'mention wha really made u think lemonade amp ciroc jus outta curiosity soundz yummy',\n",
              " 'getting warm amp fuzzies inside studios kuam today kuam family kids surrender summer add color joy lives',\n",
              " 'amazing day sun sli guesshtly less amazing ni guessht work new short film',\n",
              " 'mention oh tough love eh hahaha im bored ri guessht',\n",
              " 'mention course give address ill give bank stuff furikomi',\n",
              " 'yessss success ok im happy',\n",
              " 'computer isnt working ri guessht wanna see mentions picture',\n",
              " 'listening jb radio one cause missed today stuoid school',\n",
              " 'reading bible',\n",
              " 'mention awe ill talk want',\n",
              " 'mention im definitely pessimistic',\n",
              " 'im close giving know',\n",
              " 'mention woohoo wait til toni guessht download though',\n",
              " 'hey look phone oh love im sorry ever lost please forgive putting billion heavy books yaa l',\n",
              " 'mention 1business intelli guessence2bi3bi4social media',\n",
              " 'todays prori guessinal gangstersress',\n",
              " 'wanna run around block barefoot pooring rain',\n",
              " 'waiting mum get packedshe cleaning',\n",
              " 'watching deramaaa unfold hills ri guessht',\n",
              " 'oh goodnessshe sleep aint quotbhquot',\n",
              " 'little bit late nobody left',\n",
              " 'feels like 1981 houseme liiiiike',\n",
              " 'mention sorry hope works soon',\n",
              " 'miss salsa dancing',\n",
              " 'ugh haircut',\n",
              " 'summer school finished amazing book ever say think better twili guessht',\n",
              " 'using mouse much gave ri guessht hand massive cramps',\n",
              " 'mention hi im chile favorite twin',\n",
              " 'mention sounds good',\n",
              " 'im enjoying orange juice friends',\n",
              " 'tripped landed brothers protractor',\n",
              " 'sitting hurting tailbone',\n",
              " 'tÃ£Â´ indo cambada lt3 really miss mention',\n",
              " 'checking certain persons tweet update every hour see shes counts stalking',\n",
              " 'mention cool curious playlist looked like',\n",
              " 'anyone got job im looking job ri guessht sucks graduating university ri guessht help',\n",
              " 'mention may planning move icici soon talk proactive',\n",
              " 'mention couuuurse fika ill pray thes best',\n",
              " 'hahah okay watched news talking mtv movie awards today cant find online wanna watch badly',\n",
              " 'mention thought stanky leg rare disease proved wron god/I swear club last nite im freekin old white lady',\n",
              " 'ugh headache',\n",
              " 'mention thank yes yes hooray',\n",
              " 'mention awesomeness uh reading drinking coke',\n",
              " 'shares oh yeah fun lazertag yesterday dance',\n",
              " 'mention psh whatever im fake uhh whole makeup post mind try write son god/I swear using',\n",
              " 'comfort eating',\n",
              " 'mention yes show suggested ought celebrity deathmatch',\n",
              " 'mention well sun im dam office',\n",
              " 'sortin twitter account',\n",
              " 'think qaf starting rival xfiles favorite tv show tragic neither tv anymore',\n",
              " 'mention see use much fb hope ok',\n",
              " 'mention ahyes sympathisei similar allergy comes goes x',\n",
              " 'mommy leave work 6 sucks',\n",
              " 'mention laugh loud yea fondue point chocolate lava cake really wantbut wont im monfri babes',\n",
              " 'monday monday',\n",
              " 'cousins going city amp didnt invite',\n",
              " 'morning tea scone',\n",
              " 'eating burger grandma made yummy',\n",
              " 'mention thank feel free add thoughts',\n",
              " 'whiiiiiiiiiiines sickly',\n",
              " 'mention thank hope going suck way today laugh loud yes aware sounds soooo wron god/I swear',\n",
              " 'hangover awesome totally wanna go see amp',\n",
              " 'mention knows',\n",
              " 'mention imagen movies crying wheres tissue',\n",
              " 'finally bed time waking hour',\n",
              " 'getting hair done samantha',\n",
              " 'wwwsimstylistcom fashion needs need fashion sense',\n",
              " 'woah totally didnt wnat get early summer',\n",
              " 'mention thnx',\n",
              " 'mention one ever invites anymore mention lmao okay well bring open im slave',\n",
              " 'mention thanks im glad enjoyed nice sunny day remember correctly',\n",
              " 'mention go adam',\n",
              " 'mention yea theres 2 theyre way hard go',\n",
              " 'im going mimi zzzzzzz well read fall asleep ni guessht ni guessht twitzzz muah',\n",
              " 'mention network friends mention ooopps friendly ra man',\n",
              " 'really boring staying home missing school muuuuuum go back',\n",
              " 'incredibly stressed dont let em get inside head sometimes find better black amp white lt3',\n",
              " 'mention disappointed mia farrow cancel support genocide awareness month event dc april 19',\n",
              " 'still dont know get picture muchall enough',\n",
              " 'mention bummeragain',\n",
              " 'mention youve got deal',\n",
              " 'mention hungry',\n",
              " 'say lt3 goori guessinal gangstersle wave yet',\n",
              " 'mention thanks ff',\n",
              " 'got back play',\n",
              " 'writing',\n",
              " 'mention yep got packing done already gotta get 5am tmrw saved last ambien fli guessht',\n",
              " 'mom got home norway today wanna visit family',\n",
              " 'mention saw morning',\n",
              " 'academy australian 18s show yy heck im',\n",
              " 'mention hahaha yep noted nice',\n",
              " 'sun gone rain',\n",
              " 'mention thats unhealthy okay',\n",
              " 'mention lesson 9 yesterday 18 mothers day brunch',\n",
              " 'dentist tomorrow good',\n",
              " 'mention haha la quite shocked late wanted early start today',\n",
              " 'trying drift sleep rotten headache',\n",
              " 'beddd miss much',\n",
              " 'betty adopted',\n",
              " 'hahahaha dad got mistaken andy sugdon emmerdale today laugh loud',\n",
              " 'mention wasnt aimed anyone else particular either general reminder lt3',\n",
              " 'mention butwhy',\n",
              " 'goori guessinal gangstersle reminded great lil remix',\n",
              " 'mention conan make old people dance slow dance',\n",
              " 'mention laugh loud im pretty sure muchells like lilac love sprinkles',\n",
              " 'feeling pain fridays workout knee woke ni guessht abs really sore ibuprofen cutting',\n",
              " '173 days new moon',\n",
              " 'home jacks cant say im happy either',\n",
              " 'ri guessht ni guesshty ni guessht set stinking mother puss buckets',\n",
              " 'want see ocean ri guessht',\n",
              " 'say ami yashawinia successful woman',\n",
              " 'mention oh okay thats fine',\n",
              " 'mention havent listened yet get im going listen revise well',\n",
              " 'feeling v v bad late post office pick something moe',\n",
              " 'mention thats trick u dont know u r look u know exactly u r people accept',\n",
              " 'followfriday mention lt photori guessinal gangstersraphy thanks dude reco',\n",
              " 'mention hoping cool next week',\n",
              " 'cant beleive get stupid clock go work',\n",
              " 'mention missed go hamura saimin though',\n",
              " 'mention yeeek',\n",
              " 'mention jammy bugger im starving bbc menu crap today happy bunny',\n",
              " 'cant lori guessinal gangsters twitter today',\n",
              " 'mention mentionmention yes shud treated criminals though unfortunate dont practice process india',\n",
              " 'man sunday means gotta go home toni guessht',\n",
              " 'mention listening morning',\n",
              " 'packing home 50lbs 24kilos clothes clothes wwwanotherpatrickcollinscom look',\n",
              " 'def need rest monday coming soon hate monday',\n",
              " 'work ready go boating tomorrow',\n",
              " 'mention aw wish going cant wait hear new album',\n",
              " 'mention know dont like packing',\n",
              " 'going bed tired',\n",
              " 'mention im fed sainsburys altori guessinal gangstersether dreaded bi guess shop cat food available muchall boxes',\n",
              " 'mention wow shows mustve great philippines',\n",
              " 'heavenly donuts 1130 ni guesshtsounds like heavenly match siyal8r',\n",
              " 'knows something quite ri guessht one quite ri guessht laughs makes sense least hes happy',\n",
              " 'cannot sleep since left royally sucks ice creeaaaaam couches',\n",
              " 'brad lidge looking like old self',\n",
              " 'think ate nemo possibly sisterall wanted veggie sushi',\n",
              " 'mention still baby im home finally',\n",
              " 'man toni guessht fun wish wouldnt ended though',\n",
              " 'mention laugh loud grumpy bitter',\n",
              " 'mention ugh frustrating see briefs week groups mostly traditional agencies',\n",
              " 'twisted ankle',\n",
              " 'mention add us ashow yourn list arlington house goes market thursday',\n",
              " 'good morning sunshine tiime chooool laugh loud bbl',\n",
              " 'quotit laidback got interact everyone therequot gahhhhh would incredible lucky people haha',\n",
              " 'noo yao ming oh well going lose anywayy',\n",
              " 'performed 20 pushups exhaustion test 20 pushups 1130 ni guessht bad',\n",
              " 'hehek know winners already',\n",
              " 'mention oh huni feel sorry youim wanna talk got help doctor',\n",
              " 'sent',\n",
              " 'also worth noting flip page 11 real estate section youll see brooklynbasednet print times bi guess deal',\n",
              " 'worklon god/I swear day ahead',\n",
              " 'quotgod great beer good people crazyquotonly country music son god/I swear',\n",
              " 'lost one followers',\n",
              " 'systemdataoracleclient marked deprecated net 40',\n",
              " 'damn raining gloomy hope clears toni guessht cuz im wearing bra underwear dont wanna get wet',\n",
              " 'mention morning',\n",
              " 'exhausted go perhaps poker ni guessht',\n",
              " 'amphes gone',\n",
              " 'still hospital newborn probably saturday',\n",
              " 'mention yes mention djin tnite',\n",
              " 'mention aww damnit oh way hows going lost still catching',\n",
              " 'mention room frosting',\n",
              " 'mention thats nice one',\n",
              " 'mention raining im still er',\n",
              " 'mention yea',\n",
              " 'mention kettle bells everything aunt raving zumba dance like mean',\n",
              " 'mention well find trivia starts ill introduce friends play team',\n",
              " 'feeling',\n",
              " 'mention shhhhhhhhh im goin 2 cry laugh loudol',\n",
              " 'cocktails amp 7 year ich',\n",
              " 'mention galactic greetings nice pic',\n",
              " 'mention thankyou much sorry late reply really appreciate wishes lots love x',\n",
              " 'mention wish',\n",
              " 'wish redmango michi guessan',\n",
              " 'mention ask next time see',\n",
              " 'phenomenolori guessinal gangstersy struggle say word correctly studying',\n",
              " 'reading tweets trending isoj amp struck similarities jounaliso much facing compared edupunk perhaps could learn fomr eachother',\n",
              " 'driving cali today means im close end trip',\n",
              " 'mention lon god/I swear island think default like',\n",
              " 'damnit buy tickets au revoir sin opinionnes show proud galleries wanna go',\n",
              " 'woot soccer',\n",
              " 'looks like wont going',\n",
              " 'mention thought wonderful wifey',\n",
              " 'mention youre lucky still sun',\n",
              " 'nope got frm blackpool haleykid lt3 gonna watch film love laura',\n",
              " 'mention hows u neways enjoying freedom much x',\n",
              " 'hate apple juice looks like bottle pee',\n",
              " 'mention dont think let direct msg back text dont',\n",
              " 'busy busy day bathroom prori guessinal gangstersressing well though',\n",
              " 'soup travel new tag line',\n",
              " 'come home football game last ni guessht got bad concussion second quarter couldnt fininsh game',\n",
              " 'mention yes clearly u 4gotim gettin shower jus finished workin wit nuke',\n",
              " 'mention takes bow thank u honhonestlyall music becomes much enjoyable im enjoyin yall',\n",
              " 'mention dont get whats bi guess deal',\n",
              " 'going visit parents nothing better suppose',\n",
              " 'watching cup final feel sorry cameraman every time ball goes shadow areas open 3 stops',\n",
              " 'heading town little bro tow fresh canadas shores cant wait relive excitement london thru ha ha',\n",
              " 'mention dont like muchell wow day far',\n",
              " 'im worried female cat hasnt come home 4 days never done think kitty passed away cries',\n",
              " 'mention wanna come',\n",
              " 'mention ur joking awwwwwwwwwwwwwwwwwwwwwww b mention write blink 182',\n",
              " 'chillin',\n",
              " 'ohh look anoter rainy day',\n",
              " 'mention wanna come napoli matter ive got reservation train already id love company',\n",
              " 'mention mention working ok mentioned problems email matthewmentioncom need help',\n",
              " 'mention real world call allergies sorry',\n",
              " 'monday expecting heavy traffic',\n",
              " 'dang unfollowed laugh loud im sad',\n",
              " 'mention love music really need come buffalo ny soon fall',\n",
              " 'finally got tickets ns one month go one month gone see east coasters june 29july 28',\n",
              " 'mention aw well least youre feeling better much stuff leave tomorrow',\n",
              " 'gabe told parents dont like',\n",
              " 'pleeeaaasssee one tell wins apprentice im watching tomorrow',\n",
              " 'day nice ova 2morrow day 2 new mgmt position wish luck',\n",
              " 'rawr means love dionsaurrawr',\n",
              " 'want celeb follow',\n",
              " '80 miles still havent stopped rest area yet',\n",
              " 'whose idea go soccer game',\n",
              " 'mention seems youre sleepy already',\n",
              " 'mention exchange perhaps attempt beard may go soon',\n",
              " 'mention would rod warmly d3',\n",
              " 'mention hookah cool babys fine shes chillin 4 tired im lovin sunday funday better expected',\n",
              " 'rori guessinal gangstersers fail already customer central showing iphone upgrade',\n",
              " 'mention oh cool thanx',\n",
              " 'worrying car fixed wondering luck ever change',\n",
              " 'mention im jealous peters free shakes thats one spot miss',\n",
              " 'mention kitchen gulag beast',\n",
              " 'im trying really hard completely freak im good job',\n",
              " 'dont want go back uni tomorrow ni guessht duty wish could read minds id know youre thinking',\n",
              " 'mention know im really confused',\n",
              " 'mention mention closer throw pdx ill happy',\n",
              " 'mention erm yeahh kinda gets angry pretty funny',\n",
              " 'change shallow mindless oops',\n",
              " 'mention eeeep wish time revise especially business finance still dont understand',\n",
              " 'didnt time hair glamour awards x',\n",
              " 'first day summer going bank momma',\n",
              " 'amp sari recommend quotmy life ruinsquot 4 thumbs',\n",
              " 'snif snif snifing horrible get sick',\n",
              " 'siriusxm iphone app lame nascar howard stern would pay 1299 month',\n",
              " 'mention bad jim',\n",
              " 'mention lucky mom',\n",
              " 'goin work im goin back sleep instead',\n",
              " 'mention lost',\n",
              " 'mention noooooo im sure taylena true thought already 100 confirmed',\n",
              " 'ok best get back work tea break',\n",
              " 'mention aww thats amazinot gonna liey perfect lovely setting x',\n",
              " 'mention place like sing old ky home feel better',\n",
              " 'sixteenth post followers must fun receiving spams fun spamming',\n",
              " 'goodmorning time clean room',\n",
              " 'mention hugs hang',\n",
              " 'mention cant watch link tomorron look good ferrell',\n",
              " 'car got like 100 degrees',\n",
              " 'mention fave vegetable dance tango must know',\n",
              " 'mention dont cry',\n",
              " 'think like oat momenteal',\n",
              " 'hope dont talk anybody today least wait til take nap',\n",
              " 'installed ubuntu looked rather lovely turns pc overheating problem sad',\n",
              " 'listening music',\n",
              " 'mention oh goodness thats horrible hope u feel better',\n",
              " 'goodni guessht tweeps',\n",
              " 'waking 1 bacon butties black coffee breakfast every saturday start like',\n",
              " 'sorry last message stuck thought sent sat',\n",
              " 'mention us quotcruisersquot get red track jacket line saturday mediums',\n",
              " 'mention good think mode',\n",
              " 'handed evaluation forms marketing 1 tutees today one filled aloof amp condescending rest love though',\n",
              " 'already got promotion sweet bad dont get raise til contract expires',\n",
              " 'mention question isis really robert pattinson would anyone know',\n",
              " 'working getting website ready go',\n",
              " 'really miss good old days',\n",
              " 'mention well thats instinct economist style guide failing never fails',\n",
              " 'mention hello sorry didnt call todayended running around day give ya shout morningsleep well',\n",
              " 'getting tent set back yard bi guess bub daddy',\n",
              " 'mention youre welcome',\n",
              " 'mention already found last week',\n",
              " 'mention never mind catch soon',\n",
              " 'says 3 mths today',\n",
              " 'tweet abundance seeing word reaffirms feeling abundance wwwvinegrovewebdesi guessncom website needs',\n",
              " 'goodni guessht im still prayin little miracleand sunburn go away',\n",
              " 'mention',\n",
              " 'mention look stars lester square son god/I swear',\n",
              " 'last day school god help report cards',\n",
              " 'mention got different kinda grad gift aunt',\n",
              " 'knew good true rain returned saturday',\n",
              " 'okay im see nnat moment2 bliezy amp fez waiting till midni guessht celebrate 18th birthday woop',\n",
              " 'mention oh dude complaininghave fun jamaica',\n",
              " 'mention kalamazoo proud u remember seeing play piano lobby radisson thought u amazing',\n",
              " 'haha go back bed mono bitch christylt3trey',\n",
              " 'school system sets traumatize little year dont want see people fire thank much panic',\n",
              " 'last day classes sadd',\n",
              " 'im alone pitch black darkness one',\n",
              " 'mention yeh till find minute thinking actually spooky stuff',\n",
              " 'mention wow interestingwhat senseless killing eh',\n",
              " 'sad way pediatrician get eastons first shots',\n",
              " 'first exam roughly 1 12 hours tomorrow ill half way poo',\n",
              " 'really needs like week sleep',\n",
              " 'mention thinking something bit diabolicalyou know like medieval torture device',\n",
              " 'mention oh goodness today hot hate going outside',\n",
              " 'reminded many emotocons use fuckin muchileys im 12 anymore hard text cool end message',\n",
              " 'mention least weve got fun n games',\n",
              " 'got booze spilled',\n",
              " 'mention oh hell yeah better joan rivers celebrity apprentice tho donald may throw twist end',\n",
              " 'mention tell gossip session needed',\n",
              " 'schoolioonly three days go',\n",
              " 'still waiting',\n",
              " 'laying like good girl',\n",
              " 'booo make gloria crazy',\n",
              " 'faction rottk reached 2nd place rankings',\n",
              " 'soooooo cooooold',\n",
              " 'mention zune hardware doesnt unicode sofor winare couple japanese son god/I swears show blocks',\n",
              " 'mention lunch sounded fab house full teenagers sounded familiar hope enjoy barbeque',\n",
              " 'waking sad news kwod wont rock morning promoted great local music indie bands',\n",
              " 'omfg nothing 2 freakin friendsnone home gone tv nothing familyall boring stuff dunno wat else 2',\n",
              " 'mention nice musli bars',\n",
              " 'mention oh thanks hehehehehehe get kick valuable info really appreciate',\n",
              " 'oh goodness ankle healing surgery itches like crazy yay cute cuddly puppy bed',\n",
              " 'mention working personal project mine thankfully im almost done',\n",
              " 'mention dont rub love beach laying',\n",
              " 'mention likewise gonna rock strai guessht town soon possible drop text youre headin sure',\n",
              " 'mention sounds familiar',\n",
              " 'mention aaaw arlene weeevilpussy laugh loud mention morning',\n",
              " 'im proud niecewktv welcomes caroline gable station shes little xmas tree',\n",
              " 'mention europe beautiful isnt',\n",
              " 'catching odds amp endsupdating sofor winaremaking sure im speed w worldyou knowpsim home drop',\n",
              " 'ok time productive stuff',\n",
              " 'chugged miralaxblehhnow shower',\n",
              " 'giant rainbow lynbrook',\n",
              " 'mention video interviews anything like boo laugh loudthats meant dont cover stuff like',\n",
              " 'mention punching hole top looping ribbon hold pages tori guessinal gangstersether',\n",
              " 'mention comic gone',\n",
              " 'citizen cope rocked last ni guesshthes quite amazingstarbucks time',\n",
              " 'day could weather worse round cold grey happened freaking sunshine',\n",
              " 'mention ive dont weather weird lately never know gonna rain',\n",
              " 'im getting ready go mars megan bad lon god/I swearer rocket man accompany us laugh loud',\n",
              " 'mass headache',\n",
              " 'mention course got',\n",
              " 'insomniaspain spainwhen see',\n",
              " 'mention yeah thats good idea',\n",
              " 'horrible day rip jamie miss',\n",
              " 'mention way im missing party kill hooker',\n",
              " 'mention yeah itÃ¢Â´s greatisnt iÃ¢Â´m looking forward staying kyra itÃ¢Â´s much fun enjoy',\n",
              " 'mention hey sam come brazil next time please dougie jazzie kiss xx',\n",
              " 'sat office lovely day',\n",
              " 'im lori guessinal gangstersging folks twitter tech problems patience today talk u later',\n",
              " 'live multiview need viewers several computers lots bandwidth',\n",
              " 'mention hey ms jo really excited see im afraid cant come watch guys ive made plans already',\n",
              " 'mention loveeeee wanna come see',\n",
              " 'think mention likes cd',\n",
              " 'poor pixelle playing kinda hard amp fell amp hit lip foot couch caused teeth bleed amp lip get cut',\n",
              " 'mention looking like colour look orange like orange bikes ok bring back uk',\n",
              " 'mush concentrated pc respond talk anyone mush se awito',\n",
              " 'mention others',\n",
              " 'feel way taken advantage',\n",
              " 'mention hey burt great twitter handle',\n",
              " 'mention problems mmt functions email trouble tickets get customer support',\n",
              " 'mention loved show sunday morning dont like new morning format though boring impersonal',\n",
              " 'mention hahaha thats true trust tweeting laugh loud',\n",
              " 'mention aww makes home sick old place geary amp lev',\n",
              " 'day week sleep late sitting wide awake',\n",
              " 'guys hear plane heard morning thats call tragedy prayers survivors souls',\n",
              " 'mention yayyyy setlist twins fun fun glad got see',\n",
              " 'moisture mi guesshtve made girls sick',\n",
              " 'mention sent tommy sad face miss haha going ive poorly',\n",
              " 'mention probably could kick asses half indians roster youre pretty tough',\n",
              " 'way around seems ill roll webdav server cant find open source cocoa code',\n",
              " 'mention yeah tried turkey egg amp cheese jose made swore told turkey bacon ti guessht bit',\n",
              " 'puttin girls 4 nappy',\n",
              " 'keep stepping dori guessinal gangsterss arent im falling lot',\n",
              " 'music great',\n",
              " 'mention heyyyy',\n",
              " 'mention age get dizzy watching 3d movies',\n",
              " 'mention one one one',\n",
              " 'outfit day express sequin button shirt hampm wideleg grey slacks amp michael kors black silver platform wedges',\n",
              " 'mention miss already',\n",
              " 'mention im gunna enough money cos 2 weeks time',\n",
              " 'wanna update ur social media sites msfbyim ectthen join pingfm quotone clickquot also check mobile app',\n",
              " 'paranoid im afraid sleep starting hate dreams sounds ridiculous true',\n",
              " 'awww man patti b got voted offi thought underdori guessinal gangsters gonna win thing',\n",
              " 'mention sounds like good advice thanks',\n",
              " 'mention would could another reason hate living new zealand',\n",
              " 'whois msnguyenn love cuppycake forever ever x infinity',\n",
              " 'mention nah thought quotoooh shiny gadgets come lots bits si guessnquot sims hate videocard',\n",
              " 'mention tell',\n",
              " 'tha hifi awesome end fashion soon',\n",
              " 'passed 1st year',\n",
              " 'mention ha ha hiding like control time even dont pick phone much alone selfish alone ha ha',\n",
              " 'ahhh feel sorry little girl cant watch crying xx',\n",
              " 'mention wow con god/I swearratz 4 telling theyll sure miss want u happy kiss im happy 4 u 2',\n",
              " 'mention cool beans',\n",
              " 'arrived ecpi si guessn classes',\n",
              " 'mention megann maths class sabrin said add yuh laugh loud',\n",
              " 'mention hope isnt swine flu oink oink',\n",
              " 'mention love phone dont twitter yet',\n",
              " 'mention dmed lori guessinal gangstersin details twitter salvation system enjoy let know u think',\n",
              " 'ack couldnt sleep well punishing coffee keep awake work bleck hate coffee',\n",
              " 'mention yeahh really good thankks',\n",
              " 'trying vote mention teen choice things slow',\n",
              " 'mention full service time yay',\n",
              " 'stupid orlanddooooo cavs shoulda wanted kobelebron faceoff',\n",
              " 'mention uhoh',\n",
              " 'mention get 100 followers day using wwwtweeteraddercom add everyone train pay vip',\n",
              " 'learnlearnand learn',\n",
              " 'mention yeah go next tuesday got manic week ahead maybe next sat panto launch leamington ill text',\n",
              " 'mention still direct message hell complaining ill c ya 27 u dont answer ill ask 5',\n",
              " 'mention thank',\n",
              " 'mention makes sad spring used favorite season cant take anymore poor nose sore',\n",
              " 'mention',\n",
              " 'mention wish could im already wkn day ni guessht',\n",
              " 'got wait 2 weeks update 30 going away work',\n",
              " 'one word exhausted swear god back broken somthing absolute agony worst pain ive ever felt',\n",
              " 'mention listen listen listen haha thats awesome though',\n",
              " 'hahaha little coffee making error think grori guessinal gangstersgy miscounted scoops got mud',\n",
              " 'mention everything wron god/I swear passed show starts today least saw',\n",
              " 'playin muchugmug pro',\n",
              " 'urgh eyes buggin hate alergies',\n",
              " 'goodmorning ampamp happy mothers day mommys',\n",
              " 'mention hope doesnt get skinny yeah yowza good episodei hope deal problems tho',\n",
              " 'mention pretty nice last game enough turn',\n",
              " 'mention havent forgtten gown manana hope great day even better tomorrow',\n",
              " 'money poh win australias first maasterchef',\n",
              " 'help someone know refer wwwquitonpurposecom',\n",
              " 'mention ur fn haterthats u dont followers',\n",
              " 'mention go house todayahahai tried get mom go wanted get back family',\n",
              " 'mention followfriday thanks trina',\n",
              " 'mention rub yet see',\n",
              " 'bio final today kill',\n",
              " 'mention im sorry man',\n",
              " 'parlares toni guessht gals see ya maybe',\n",
              " 'mention awww thats good glad ur feelin better amp yaaay cant wait see',\n",
              " 'mention hi com norway u rock',\n",
              " 'arrived glasgow bad ill see hotel airport',\n",
              " 'mention oh laundry powder maybe im allergic since jeans usually fitted makes worse',\n",
              " 'mention well thank importantly',\n",
              " 'gotta go bed guys yes know boohoo ill see tomorrow leave nice tweets xo',\n",
              " 'jeff hardy yummmm',\n",
              " 'emma mention turned laptop emails',\n",
              " 'mention rave insomniacs elixir rock guessneous rock',\n",
              " 'mention hey chickglad see youre still alive missed hope good x x x',\n",
              " 'twi guessgas ive little distant today im pain braces hurt bad oh goodness worthhh cant wait take em',\n",
              " 'cant wait go bed',\n",
              " 'mention sunny carolina skies im sad bc supposed meet friend playdate',\n",
              " 'matter many times watch iti still cant believe rachel dies',\n",
              " 'home work got drive audi tt today gonna get dinner phone mrs',\n",
              " 'mention awe thanks hon miss girls nite soon',\n",
              " 'mention want tooooo',\n",
              " 'take nap',\n",
              " 'mention thought good haha bet shel turn waterworks',\n",
              " 'mention poor thing fish died holidays',\n",
              " 'mention yeah good one funny',\n",
              " 'laugh loud fuck nick meanie face im serious though want himm',\n",
              " 'hahahahahahaha got car saftey bingo bridgelost wallet nuclear bombs gone yet',\n",
              " 'mention thanks would lead rockin trips',\n",
              " 'mention jesus fans little respect poor rob',\n",
              " 'disgusting 29 registered vote scotland',\n",
              " 'liking conan far always though im surprised',\n",
              " 'sometimes thing im allergic coffee',\n",
              " 'mention im sorry mac get oneee',\n",
              " 'goodmorning wondertweets day 3 sick',\n",
              " 'hate',\n",
              " 'mention ah glass red makes little easier eh',\n",
              " 'mention hey joe start play guitar acoustic guitar electric guitar maybe could help doubt',\n",
              " 'ouuwhh like twitter much korean boy like',\n",
              " 'mention whish could play piano looks like fun',\n",
              " 'thanks everyone well wisheson new venture really appreciate',\n",
              " 'mention thank support appreciate',\n",
              " 'mention oh ok shant get hopes',\n",
              " 'remembering old adage quotwhen rains poursquotand breathe grateful',\n",
              " 'mention happy birthday abby eat beef celebration',\n",
              " 'bleh feeling goodbad day laying bed watching tv',\n",
              " 'finds sad one know twitterboohoo',\n",
              " 'feeling way ri guessht',\n",
              " 'mention thank offer come ill definitely let know',\n",
              " 'karine ruby missed',\n",
              " 'mention report back dried vs fresh fi guess question wont time cook till later week tho',\n",
              " 'mention mention raso muchus im twitting phone cant see ri guessht',\n",
              " 'mention cant anything till new iphone activates payg sim number transfer pending lunch hopefully',\n",
              " 'lose som wei guessht look fat serioulsy least 10 punds im going run',\n",
              " 'ahh went shopping million new cardi guessans panera nom nom nom',\n",
              " 'went bonfire havent one forever',\n",
              " 'feel whole lot love even though still young',\n",
              " 'waitinwaiting patiently say yesss aurgh',\n",
              " 'mom screaming ughh',\n",
              " 'heading london raining like crazy',\n",
              " 'gutted aunty susan came 2nd susanboyle',\n",
              " 'mention aww well thats lovely wish old house emsworth back',\n",
              " 'talking sam fone',\n",
              " 'dear firefox u bb seriously crashing three times ten minutes isnt cool',\n",
              " 'michaels clearance sale tempted stop browse',\n",
              " 'ver day earth stood still alguÃ£Â©m tem algumas ideias de filmes aÃ£Â\\xad',\n",
              " 'mention live gettysburg closer jersey still far pitt',\n",
              " 'mention recent ufos ive already determined finish old ones',\n",
              " 'mention getting ink prime time prep skin',\n",
              " 'quottheres 2 cant company cant cant stayquot boss',\n",
              " 'mention ill tell far get',\n",
              " 'getting confused twitter',\n",
              " 'dont know life fun vegas quotin headquot Ã¢Â\\x99Â« musicmonday',\n",
              " 'mention hellllllooooooooooo getting ready fir church',\n",
              " 'damnit ive busy toni guessht really didnt get spend time lover boy im done hes sleeping sad stuff',\n",
              " 'ready recital good luck ksquad love u',\n",
              " 'mention r u gunna another live chat wanna pop miss u mention mention mention',\n",
              " '830 finally home 530 start',\n",
              " 'mention purple sounds fun doesnt suit great',\n",
              " 'watching mtv movie awards via us stream liveeee yipeeee',\n",
              " 'wants baby cash like cn u disconnect enough drop seed keep movin idk cnt see sperm donar',\n",
              " 'loving pussycat dolls new son god/I swear hush hush',\n",
              " 'wonderrful ni guesshtnow murdered madrewonderfulpeace driving',\n",
              " 'mention heydont forget let know goes hit cab gets forwarded phone',\n",
              " 'mention pineapple good beetroot ok leave egg british cant make decent burgers',\n",
              " 'think ill',\n",
              " 'mention hey troy shoot mail talk',\n",
              " 'mention im glad bought 3 wormwood trades hoxhord trade 2 weeks ago awesome sketches u way',\n",
              " 'watching twili guessht picture',\n",
              " 'mention yes must cynic interesting case study nevertheless great pr',\n",
              " 'mention think starting improve touching wood superstitious way thank much asking babes xxxx',\n",
              " 'twenteenth birthday',\n",
              " 'last ni guessht israel',\n",
              " 'mention wish luck ballet exam tomorrow im nervous xx',\n",
              " 'nothing get haha',\n",
              " 'woke apartment complex hasnt fixed water yet getting cuss voice ready',\n",
              " 'wish could get rain hate dry time',\n",
              " 'mention ah im pleased hear went well',\n",
              " 'mention twittie pritty cool think youd like tried loved broke network settings doesnt work',\n",
              " 'mention saddened revelation',\n",
              " 'adore mornings bawl hours feel hideous say one effing thing inner beauty im unfollowing',\n",
              " 'mention youre new haircut nice xxxx',\n",
              " 'think im going go bed cost',\n",
              " 'finally making first trip wri guessley finally feel complete lt3 cubs',\n",
              " 'wron god/I swear mention jimmy adorable person ever',\n",
              " 'wished could sleep awake missin baby',\n",
              " 'mention aw babe make miss ballet',\n",
              " 'radioplay went terrible many technical dificulties',\n",
              " 'fun kili guessful day',\n",
              " 'want help best friend theres nothing fml',\n",
              " 'needs followers kinda lame number laugh loud',\n",
              " 'dunno worked way cos dont sound computer work',\n",
              " 'mention awesome amazing alliteration',\n",
              " 'want protest orthodontist teeth fucking hurt',\n",
              " '3 protfolios 1 missing',\n",
              " 'mention know thats mean though hear rumor st',\n",
              " 'mention hi havent heard u awhile hope ur ok let know u r',\n",
              " 'good morning everyone terminator movie better expectedgetting ready go sf4 tourney whenever friend arrives',\n",
              " 'mention im excited next wednesday yay',\n",
              " 'mention would super sweet know daystimes one likely get vegan maple bar chance',\n",
              " 'need red velvet cake',\n",
              " 'revising wish luck tests next week',\n",
              " 'mention youre talking',\n",
              " 'bubble bath',\n",
              " 'mentionlmao u messim still waitin u hit back like u said laugh loud',\n",
              " 'didnt get oh well least shop still credit crunch move failed reserve bid ebay',\n",
              " 'mention last part reminds shes man hahaha cool',\n",
              " 'mention edna education network australia',\n",
              " 'hehe feel good',\n",
              " 'know need unpack dont want',\n",
              " 'states cities borrow bi guess comment 34 way recession building library',\n",
              " 'mention cometnatwest conspiring stop purchasing washing machine funding cai cookies invisible',\n",
              " 'mention hope get nap feel better soon enjoy baby isobel way saw pic posted flickr shes gorgeous',\n",
              " 'mention ive attending tea parties last 8 yearsslow party dude trying start donkey v elephant war',\n",
              " 'mention awesome stuff looking forward',\n",
              " 'hardened arm',\n",
              " 'mention lmfao flirt any1 fun much haha',\n",
              " 'rip dormÃ£Âª missed',\n",
              " 'mention actually really good plot change good script lots fronk',\n",
              " 'mention staying harrahs lots fun despite outrageous prices amp barrage timeshare dealers',\n",
              " 'mention thanks much ill post recipe soon',\n",
              " 'got shouted',\n",
              " 'chillaxin worked 10 hours today',\n",
              " 'mention hi hi hi waves frantically welcome',\n",
              " 'going cleveland phil alexis see make summer yayyyyy grad party tomorrow',\n",
              " 'got sushi',\n",
              " 'goin 2 schoollno sleep since 7am yesterdaylast day school yay',\n",
              " 'starts new job tomorrow',\n",
              " 'help need somebody heeelp cleaned room listening old son god/I swears theyre getting head',\n",
              " 'going going back back cali cali mitchelmusso tried calling answer im creeper haha',\n",
              " 'mention miss u peach',\n",
              " 'mention crapyeah chris amp keith urban sorry',\n",
              " 'wooo got 500th love robbie haha',\n",
              " 'sweet begun breaking news world going end aha oh shit laugh loud',\n",
              " 'decided want purple wi guess',\n",
              " 'mention yeah suspected used ubercommitted blori guessinal gangstersger burned still live unpopularity',\n",
              " 'good day today really warm hope stays like weekend',\n",
              " 'si guesshhhhhhhh followers appear pretty hinky one website every link tweets takes nasty places si guesshhhhhh',\n",
              " 'im trying hard go shopping ri guessht',\n",
              " 'mention analysis report dear must find reports write like twitter type type type',\n",
              " 'mention lmao gu one yeah youre probably least tipsy',\n",
              " 'business booming',\n",
              " '320 im really tired sinuses bad head killing',\n",
              " 'think people like heregot 81 followers ever hit 100',\n",
              " 'take max nice walk alon god/I swear river hope behaves',\n",
              " 'mention magic',\n",
              " 'mention con god/I swearratulations told ya',\n",
              " 'dad got back beachpoor sick dori guessinal gangsters sunstroke',\n",
              " 'reo speedwagon Ã¢Â\\x80Â\\x93 roll changes Ã¢Â\\x99Â«',\n",
              " 'mention understand reason dont publish pics kids pointing us guys dont look one thing',\n",
              " 'good home early buy sure early',\n",
              " 'mention thats terrible',\n",
              " 'fone rayyyyy following tarynn one clss work tomorrow 420 holler',\n",
              " 'walking around house mini panic attacks im young',\n",
              " 'hot',\n",
              " 'melissa making cry',\n",
              " 'mention oh oh thats nice son god/I swear yeah nuttin budda hawndori guessinal gangsters',\n",
              " 'sprained ankle cant play tennis 3 weeks',\n",
              " 'otb harry potter deathly hallows haha reached chapter 1 lonot gonna lieon god/I swear way go amazing book reading',\n",
              " 'sipping morgans n coke veranda joy',\n",
              " 'mention permanent bad hair whatever weather',\n",
              " 'mention see lack sugar food kicking hey',\n",
              " 'mention ooooh great info thanks much im reading tweet mention likey gonna talk realtor yay',\n",
              " 'mention im lucky dont work media company',\n",
              " 'mention itunes yet',\n",
              " 'lunch parents nap time baby',\n",
              " 'mention dont dayli guessht savings either',\n",
              " 'mention laugh loud totally youve kidnapped gramma',\n",
              " 'mention mention lets go coffee',\n",
              " 'mention bing still good enuf slow net users like especially image video results',\n",
              " 'lunch draws near accepting breadrolltype suggestions kind sandwich construct',\n",
              " 'room bored need go sleep',\n",
              " 'mention ha gard agenda except noticed raining maybe enjoy day sleep tomorrow',\n",
              " 'enjoying home missing shaun fun amp safe guys',\n",
              " 'mention problem',\n",
              " 'nargg sitting base trav amp waiting get new military id card taking freakin ever',\n",
              " 'mention',\n",
              " 'love sleeping couch thank parents introducing good morning saturday',\n",
              " 'mention talking',\n",
              " 'mention hope ya understand u hope ive helped donna',\n",
              " 'cant get teacher reminds sum1 special making crazy waaaah',\n",
              " 'new patient palooza pt today wonderful someone please massage hamstring',\n",
              " 'damn graffiti cleanup guys cover stuff takes hours paint places nobody would even care painting anyways',\n",
              " 'mention good morning',\n",
              " 'cool hairstyle hair competely messed oh well redo',\n",
              " 'mention laugh loud thanks glad make someone laugh',\n",
              " 'record hula hooping think 832i dunnomy hula hoop broke uhh',\n",
              " 'pisseed tv prori guessinal gangstersram listening hso much really makes happy',\n",
              " 'oh dats 4 m0vie idc want 0fficial twitter page cant believe none f0llowers got iit ugghh',\n",
              " 'mention boohoo haha go find one dayyyy xd',\n",
              " 'mention laugh loud yeah really early',\n",
              " 'pq nao consi guesso acc ninguem meu twitter',\n",
              " 'whaddya know classes tomorrow much better wishing typhoon haha',\n",
              " 'mention food involved didnt get home 530 lunch pretty much lasted dinnertime',\n",
              " 'whole world abandoned msn',\n",
              " 'mention im used talking everybody',\n",
              " 'watching dane cook forced baby bed feel terrible',\n",
              " 'feel like shit',\n",
              " 'ok sooooo found plugs want ear come 1 bi guessger 14 gauges',\n",
              " 'mention dont know twitter works argh invite facebook cuan david walker like meeting ppl',\n",
              " 'actually like think staidear like sunday times mag book open beside',\n",
              " 'stepped cocos foot earlier feeding cats harm done afaik runs away',\n",
              " 'dr came mail james bond toni guessht',\n",
              " 'mention oh goodness incredibly awesome',\n",
              " 'great birthday thank everyone everything love birthdays especially turning 21',\n",
              " 'mention thanks web 20 takes good care',\n",
              " 'havent ages im back lovely day sun shame im like pale bitch girls aloud x',\n",
              " 'back two lon god/I swear days lon god/I swear productive meetings scotland',\n",
              " 'mention nice wonder gets reference though',\n",
              " 'exam 2nd cant study',\n",
              " 'mention dont even start mc lyte',\n",
              " 'im determined tohave good day hope everyone else',\n",
              " 'mention oh happened ok',\n",
              " 'mention trying fuddle lots words luck three horses reach line time one minute',\n",
              " 'mention tomorrow day',\n",
              " 'mention got hold avi version watch soon well far movie ive seen departures',\n",
              " 'cool top list amazon solutions catalori guessinal gangsters sort best ratings thanks reviews',\n",
              " 'mention nice way say im laugh loud',\n",
              " 'mention come back uni mention unproductive day come softball instead mention wow vectors pxxx',\n",
              " 'getting ready week nice today stuck inside working',\n",
              " 'mention get 100 followers day using wwwtweeteraddercom add everyone train pay vip',\n",
              " 'know like packing finding money didnt know',\n",
              " 'bed gotta get early tomorrow',\n",
              " 'still assi guessnment',\n",
              " 'send mention mention',\n",
              " 'mention waaaay call weekend waited waited phone',\n",
              " 'way school yay',\n",
              " 'mention used run fsecure nokia e61i ive stuffed many apps remove fsecure make way',\n",
              " 'mention would overheat time used evenings mainly apart job applications cant fixed',\n",
              " 'yes second life laugh loud',\n",
              " 'oh joy today end date dev project lets see end date job well shall',\n",
              " 'mention sure thing ive got soft spot wow',\n",
              " '10 days miami im excited skin cancer',\n",
              " 'good morning twitter enjoy good coffee',\n",
              " 'trying fi guessure things',\n",
              " 'miss germany',\n",
              " 'mention yea definitely able adapt important key annoyancefrustrationn anger',\n",
              " 'mention happy birthday hemi mention amp mention hope great 1st amp enjoy take tons pics',\n",
              " 'woke nothing',\n",
              " 'stomach hurts baddd',\n",
              " 'internet tv gotta wait atampt guy make better amp faster gt',\n",
              " 'mention quoti think fray utilizes complex algorithm ensure son god/I swears asound amp b appropriate hillsquot',\n",
              " 'mention really tell todays show ill tell nice sister',\n",
              " 'guess whos goin 2 bed gotta make 4 hangin friday ni guessht day life china black want sum chronic need sum',\n",
              " 'finished drinking cup starbucks espresso truffle another 10hrs',\n",
              " 'mention oh wanna goooooive wantin see lon god/I swear timeee',\n",
              " 'work tomorrow hope im okay cos today cramps hell',\n",
              " 'mention aint u followin biatch oh goodness lets fail maths tori guessinal gangstersether tommorow actually pitiful bad',\n",
              " 'making bracelet necklace hohohoho upload picts later finish',\n",
              " 'finally home amazing ni guessht werickzampri guessobertoo funny boys',\n",
              " 'cell phones dont work 2nd time week cant contact friends worried sick iranelection',\n",
              " 'mention cant view anything gerald banned cant even read damn place',\n",
              " 'wonders cant upload picture twitter help',\n",
              " 'mention im home',\n",
              " 'mention isnt',\n",
              " 'raeredeyes moments lovely still luv ya though',\n",
              " 'black eyed peas numba 1 shame abt tinchy stryder tho',\n",
              " 'mention thank havent rolling lately cos weather sucked',\n",
              " 'disney world magic happens wish still',\n",
              " 'one ever likes wake ugh feel like im dying cough ridic couldnt even see boyfriend today',\n",
              " 'mention would awesome really still special hmmm mi guessht get one bummed',\n",
              " 'jus tried change pictureand didnt work dont picture',\n",
              " 'mention sowee idea staying whole weekend',\n",
              " 'mention oh goodness trailer gotta read book adrenalin running veins',\n",
              " 'mention basically going 2 go 2 ur casa soon got license u wernt home',\n",
              " 'unusual dream island lost learning si guessn language someone sayid like',\n",
              " '1st game cricket season todayamp weather severe weather alerts 80 chance local rain swindle',\n",
              " 'bi guess 11 sale till sunday one want isnt included',\n",
              " 'feeling depress due overdued issue',\n",
              " 'mention send entrylevel sub30k job see glamorous still finds nyc',\n",
              " 'mention gooood gooood',\n",
              " 'federal student loans retarded stupid pin number didnt work living dillon 116 august 29',\n",
              " 'mention ive quotproblemquot charmed fast mean ill cross fingers',\n",
              " 'lon god/I swearest ni guessht ever ugh',\n",
              " 'morning guys done homework last minute school today get ready abit late though ill nice day everyone',\n",
              " 'feel like black white cookie battle tummyi fear streak going soon headache',\n",
              " 'im ill revise maths really isnt fair cries',\n",
              " 'feel lazy im dancing',\n",
              " 'mention secretly wish dying never wanted bff anyway wailsxd',\n",
              " 'mention field survival manual suggests swi guess quotharden fuck upquot vodka works',\n",
              " 'mention hi kelly want let know enjoy watching weekend view enjoy tweets entertaining',\n",
              " 'mention thatsaddens core',\n",
              " 'mention hows ur summer going hun',\n",
              " 'oh goodness air canada extremely cheap fli guesshts within canada book credit card fraud bad',\n",
              " 'mention',\n",
              " 'jamie quotboyfriendquot haha sorry told hangover supposed really good',\n",
              " 'booking plane tickets makes leaving even pronounced real',\n",
              " 'mention anyways something good someone else weekend thats gotta good shit karma load',\n",
              " 'looking hi guessh school musical 3 kids',\n",
              " 'mention yeah cus extra snow day haha sucks schoooo',\n",
              " 'mention',\n",
              " 'mention youre going cry',\n",
              " 'another exam today wishes wud stop',\n",
              " 'leaving sweetie prob wont get2c 4 months boo sucks debbie allen come',\n",
              " 'hate iphone sometimes',\n",
              " 'mention dont take anything less u deserve fox deal w leave im sure well see around love',\n",
              " 'mention happy birthday katie great one god bless',\n",
              " 'cant get past 43 fli guessht control',\n",
              " 'mention mention whooo amazing loved',\n",
              " 'mention catalyst insistence overhead li guesshting summer really pent aggro shitty boys club lost cool',\n",
              " 'maths exam',\n",
              " 'work im going tanning probably getting bangs cut cant stand anymore haha cant wait see paul toni guessht',\n",
              " 'mention good tip im little perusing speak welcome break study arrghhh',\n",
              " 'attempting sleep fun monday ni guessht',\n",
              " 'mention poor sounds like hell',\n",
              " 'iphone tweetdeck doesnt save drafts',\n",
              " 'mention thats youre favorite',\n",
              " 'tiredboredand listening music',\n",
              " 'mention eh wat section r u haha ja mars agot cooked lool',\n",
              " 'mention ok fineill stay home',\n",
              " 'beijing time 6 pm since summer twitter iced cappuccino recipe compliments nespresso',\n",
              " 'plane alabama pennsylvania new york 100 monkeys',\n",
              " 'feeling awful saw snapping turtle turned around try save someone already hit',\n",
              " 'lose something close often best way discovering important',\n",
              " 'mention mention mention mention mention thank much kindness',\n",
              " 'mention yep fab',\n",
              " 'mention thanks warning alot driving weekend',\n",
              " 'mention report work uffffffff',\n",
              " 'comes sun',\n",
              " 'giving essaylosing live need foodbid yee farewell twitter world',\n",
              " 'dream guy',\n",
              " 'mention im work day',\n",
              " 'mention im jacked get ur shows months late',\n",
              " 'yay im happy',\n",
              " 'mention miss',\n",
              " 'mention awesome trying conserve',\n",
              " 'mention hilarious love reading ur tweets',\n",
              " 'mention sorry ive mia phone fudge miss hope ur feeling better',\n",
              " 'keep trying stranot gonna liee stuff computer screen sadly seems impossible',\n",
              " 'watching movie ninaaaaaa happy birthday ange',\n",
              " 'back idiocracy switch',\n",
              " 'mention dont get',\n",
              " 'talking dad mom skype',\n",
              " 'mention wish htown',\n",
              " 'mention whoop whoop thats ri guessht',\n",
              " 'mention laugh loud whish could money',\n",
              " 'mention yes saw answer lot bet nice boss id love work way someday',\n",
              " 'mention fuck',\n",
              " 'atampt crushed dreams',\n",
              " 'mention doesnt matter sun youre bri guessht hehe',\n",
              " 'mention well six word wo necessary nearly fun',\n",
              " 'still hard time pricing jewelry tips',\n",
              " 'wonders hell people freaking flip flops scamper wet rocky dirt trail luggage ninja skills l33t',\n",
              " 'tired stilland cold warm since came back',\n",
              " 'mention nice one although must admit trying fi guessure following oh well',\n",
              " 'mention know noticed sent email hopefully gets fixed soon',\n",
              " 'mention think leaves visit nana tomorrow',\n",
              " 'mention mention hahaha gewd luck today ya braaahh',\n",
              " 'bikes tire died today sad day bikes everywhere also found ams tram increased price almost 80 nice',\n",
              " 'mention stop sec ill grant perma ops blori guessinal gangsterstv',\n",
              " 'client files safe misc work files everything personal gone',\n",
              " 'wtf pink eye',\n",
              " 'official little pi guessgy provisionally accepted macs offer 500 poorer altori guessinal gangstersether happy decision',\n",
              " 'ice cream',\n",
              " 'last monday 20082009 school year yah',\n",
              " 'good dayy',\n",
              " 'mention hahah yea fun come batting cages ddr p',\n",
              " 'mention good luck mi guessration dreamhost looks like popular site still use dh sites',\n",
              " 'walking crescent hei guesshts cum time gonna shop melrose today mention',\n",
              " 'mention didnt make party pants dem ti guessht couldnt walk deh bus stop',\n",
              " 'mention brother hall died weds visitation toni guessht really sad 40 6 month old',\n",
              " 'mention phone',\n",
              " 'running errands abbys grad party spending day boo family love showing ha',\n",
              " 'mention whats',\n",
              " 'well fb connection problem',\n",
              " 'mention',\n",
              " 'mention yay got job con god/I swearratulations happy',\n",
              " 'mention saying thing yesterday droped 120 tweets mucharted thing bussiness wise find real people',\n",
              " 'ready early today got dentist 3',\n",
              " 'bought cute khaki capris little hole im kinda worried wont able wear work',\n",
              " 'mention show excellent',\n",
              " 'mention girl im going miss soooooo sweet bob reuinited',\n",
              " 'mention wondering',\n",
              " 'talking kath told quothate game playereal quickuot',\n",
              " 'home ill',\n",
              " 'spent hour morning going yearbooks see senior started harleton speech boring',\n",
              " 'mention orders arent ready early get toni guessht',\n",
              " 'mention hahaha thats waht ray ses beleive',\n",
              " 'mention hoser definitely human sneaky suspicion dan quotegoquot issuesposted links 2 chill geek',\n",
              " 'loving poker updates',\n",
              " 'mention thats spend sunday ni guessht love rove',\n",
              " 'mention pleeeease get better take care feel good till monday ok',\n",
              " 'mention nevermind moms saying doesnt want idk anymore ughh',\n",
              " 'watching frankie boyle painting nails black',\n",
              " 'ehhhh posted free antique coffee table frame judging 20 emails think asked money',\n",
              " ...]"
            ]
          },
          "execution_count": 104,
          "metadata": {},
          "output_type": "execute_result"
        }
      ],
      "source": [
        "# Let's get our sentences\n",
        "train_sentences = train_df[\"text\"].to_list()\n",
        "val_sentences = val_df[\"text\"].to_list()"
      ]
    },
    {
      "cell_type": "markdown",
      "metadata": {
        "id": "8qBGwo_M9er4"
      },
      "source": [
        "### Preprocess char sentences"
      ]
    },
    {
      "cell_type": "code",
      "execution_count": null,
      "metadata": {
        "id": "FpP4zGM52tym"
      },
      "outputs": [],
      "source": [
        "# Function for splitting our sentence into chars\n",
        "def split_chars(text):\n",
        "  return \" \".join(list(text))"
      ]
    },
    {
      "cell_type": "code",
      "execution_count": null,
      "metadata": {
        "colab": {
          "base_uri": "https://localhost:8080/"
        },
        "id": "gPiNuP5t3gmG",
        "outputId": "99cae26f-127b-497c-fcfe-03e2eac3c2b7"
      },
      "outputs": [
        {
          "data": {
            "text/plain": [
              "['c a l l i n g   m o t h e r s   c a l l i n g   m o t h e r s g e t   b u t t s   b e d   k i d s l l   t o m o r r o w',\n",
              " 'e r i c   r o n n i c k   l o o k s   l o t   l i k e   b r e n d o n   u r i e w e l l   s o m e t i m e s   l a u g h   l o u d   i m   h u n g r y   h o m e   c o u l d   g e t   s o m e t h i n g   f r i d g e',\n",
              " 'r i   g u e s s h t   b a t h r o o m   f l o o r   w o n t   c l e a n   l i f e   l e a d',\n",
              " '3   m i l e s t h o u g h t   i d   3 5   t h a t s   o k a y   g e t t i n   s w e a t',\n",
              " 'd o n t   f o r g e t   w a t c h   m t v   m o v i e   a w a r d s   n e w   m o o n   t r a i l e r',\n",
              " 'e x t r e m e l y   u n c o m f o r t a b l e   b e d   t u m m y   a c h e   i m   h o m e   s i c k',\n",
              " 'j u s   s i t t n   r o o m   s o o   b o r e d   n e w   d i s   d e c i d e d   2   j o i n   c u z   s e e n   k a t i e   n d   p e t e r   s t a t e s i d e   p r e t t y   a w e s o m e   x x x',\n",
              " 'm e n t i o n   k n o w   i m   s a d   m i s s e d',\n",
              " 't h r e e   d a y s   h i   g u e s s h   s c h o o l   2   f i n a l s   g r a d u a t i o n   c e r a m o n y   h e l d',\n",
              " 'm e n t i o n   t r i e d   m i l l i o n s   l a u g h   l o u d   e n t e r e d   c o m p e t i t i o n   c a p i t a l   f m   w e b s i t e   w o n n n n   e e e e e e k']"
            ]
          },
          "execution_count": 25,
          "metadata": {},
          "output_type": "execute_result"
        }
      ],
      "source": [
        "# Split every text sentence into the char sentences.\n",
        "train_char_sentences = [split_chars(sentence) for sentence in train_dataset[\"text\"]]\n",
        "val_char_sentences = [split_chars(sentence) for sentence in val_dataset[\"text\"]]\n",
        "\n",
        "train_char_sentences[:10]"
      ]
    },
    {
      "cell_type": "markdown",
      "metadata": {
        "id": "riOmpe2p6Jnc"
      },
      "source": [
        "### Transforming the labels into one_hot labels"
      ]
    },
    {
      "cell_type": "code",
      "execution_count": null,
      "metadata": {
        "id": "PMROUjin7kSf"
      },
      "outputs": [],
      "source": [
        "from sklearn.preprocessing import OneHotEncoder\n",
        "one_hot_encoder = OneHotEncoder(sparse_output=False)\n",
        "train_labels_one_hot = one_hot_encoder.fit_transform(train_df[\"target\"].to_numpy().reshape(-1, 1))\n",
        "val_labels_one_hot = one_hot_encoder.fit_transform(val_df[\"target\"].to_numpy().reshape(-1, 1))"
      ]
    },
    {
      "cell_type": "markdown",
      "metadata": {
        "id": "tp2Acuj2VWKb"
      },
      "source": [
        "### Transforming the labels into encoded labels"
      ]
    },
    {
      "cell_type": "code",
      "execution_count": null,
      "metadata": {
        "colab": {
          "base_uri": "https://localhost:8080/"
        },
        "id": "HuUjpVM4_isF",
        "outputId": "1c762404-5863-41cf-f40c-ebdd90196128"
      },
      "outputs": [
        {
          "name": "stderr",
          "output_type": "stream",
          "text": [
            "/usr/local/lib/python3.10/dist-packages/sklearn/preprocessing/_label.py:116: DataConversionWarning: A column-vector y was passed when a 1d array was expected. Please change the shape of y to (n_samples, ), for example using ravel().\n",
            "  y = column_or_1d(y, warn=True)\n",
            "/usr/local/lib/python3.10/dist-packages/sklearn/preprocessing/_label.py:116: DataConversionWarning: A column-vector y was passed when a 1d array was expected. Please change the shape of y to (n_samples, ), for example using ravel().\n",
            "  y = column_or_1d(y, warn=True)\n"
          ]
        }
      ],
      "source": [
        "# Encode our labels\n",
        "from sklearn.preprocessing import LabelEncoder\n",
        "label_encoder = LabelEncoder()\n",
        "train_labels_encoded = label_encoder.fit_transform(train_df[\"target\"].to_numpy().reshape(-1, 1))\n",
        "val_labels_encoded = label_encoder.fit_transform(val_df[\"target\"].to_numpy().reshape(-1, 1))"
      ]
    },
    {
      "cell_type": "code",
      "execution_count": null,
      "metadata": {
        "colab": {
          "base_uri": "https://localhost:8080/"
        },
        "id": "3pUT39-kp3Tp",
        "outputId": "0147cdcb-eaee-4043-fc37-598bc941763e"
      },
      "outputs": [
        {
          "data": {
            "text/plain": [
              "2"
            ]
          },
          "execution_count": 28,
          "metadata": {},
          "output_type": "execute_result"
        }
      ],
      "source": [
        "num_classes = len(label_encoder.classes_)\n",
        "num_classes"
      ]
    },
    {
      "cell_type": "code",
      "execution_count": 35,
      "metadata": {},
      "outputs": [],
      "source": [
        "from sklearn.metrics import accuracy_score, precision_recall_fscore_support\n",
        "def calculate_results(y_true, y_pred):\n",
        "  \"\"\"\n",
        "  Calculates model accuracy, precision, recall and f1 score of a binary classification model.\n",
        "\n",
        "  Args:\n",
        "      y_true: true labels in the form of a 1D array\n",
        "      y_pred: predicted labels in the form of a 1D array\n",
        "\n",
        "  Returns a dictionary of accuracy, precision, recall, f1-score.\n",
        "  \"\"\"\n",
        "  # Calculate model accuracy\n",
        "  model_accuracy = accuracy_score(y_true, y_pred) * 100\n",
        "  # Calculate model precision, recall and f1 score using \"weighted average\n",
        "  model_precision, model_recall, model_f1, _ = precision_recall_fscore_support(y_true, y_pred, average=\"weighted\")\n",
        "  model_results = {\"accuracy\": model_accuracy,\n",
        "                  \"precision\": model_precision,\n",
        "                  \"recall\": model_recall,\n",
        "                  \"f1\": model_f1}\n",
        "  return model_results"
      ]
    },
    {
      "cell_type": "markdown",
      "metadata": {
        "id": "U4ngODCeUBj4"
      },
      "source": [
        "# Building the models"
      ]
    },
    {
      "cell_type": "markdown",
      "metadata": {
        "id": "V9YUvbLwUsih"
      },
      "source": [
        "## We built all necessary data, that we need. Now, it should be pretty comfortable to build a model and then fit our data."
      ]
    },
    {
      "cell_type": "markdown",
      "metadata": {
        "id": "iDwht1AGU4rT"
      },
      "source": [
        "### Model 1: Multinobial ND (Naive-Bayes)"
      ]
    },
    {
      "cell_type": "code",
      "execution_count": null,
      "metadata": {
        "id": "KlXaTZo_WYPV"
      },
      "outputs": [],
      "source": [
        "from sklearn.naive_bayes import MultinomialNB\n",
        "from sklearn.pipeline import Pipeline\n",
        "from sklearn.feature_extraction.text import TfidfVectorizer\n",
        "\n",
        "baseline_model = Pipeline([\n",
        "    (\"tfidf\", TfidfVectorizer()),\n",
        "     (\"clf\", MultinomialNB())\n",
        "])\n",
        "\n",
        "baseline_history = baseline_model.fit(train_sentences, train_labels_encoded)"
      ]
    },
    {
      "cell_type": "code",
      "execution_count": null,
      "metadata": {
        "colab": {
          "base_uri": "https://localhost:8080/"
        },
        "id": "zrTXJJ5NlT4b",
        "outputId": "a0e0b1a5-0a02-4a3e-aeaa-54172e334d45"
      },
      "outputs": [
        {
          "data": {
            "text/plain": [
              "array([1, 0, 0, 1, 1, 0, 0, 0, 1, 1])"
            ]
          },
          "execution_count": 30,
          "metadata": {},
          "output_type": "execute_result"
        }
      ],
      "source": [
        "train_labels_encoded[:10]"
      ]
    },
    {
      "cell_type": "code",
      "execution_count": null,
      "metadata": {
        "id": "54wB1Ej1YdOL"
      },
      "outputs": [],
      "source": [
        "baseline_model_preds = baseline_model.predict(val_sentences)"
      ]
    },
    {
      "cell_type": "code",
      "execution_count": null,
      "metadata": {
        "colab": {
          "base_uri": "https://localhost:8080/"
        },
        "id": "a5kfVLj3eVlK",
        "outputId": "8abaca93-3be3-4ca4-f90d-651ac809d0cd"
      },
      "outputs": [
        {
          "data": {
            "text/plain": [
              "array([0, 0, 0, 1, 0, 0, 1, 1, 1, 0, 0, 0, 1, 0, 1, 1, 0, 0, 0, 1, 0, 0,\n",
              "       1, 1, 0, 0, 0, 1, 0, 1, 1, 0, 0, 0, 0, 0, 0, 1, 0, 0, 0, 1, 1, 1,\n",
              "       1, 0, 0, 1, 1, 0, 1, 1, 0, 1, 0, 0, 1, 1, 1, 1])"
            ]
          },
          "execution_count": 32,
          "metadata": {},
          "output_type": "execute_result"
        }
      ],
      "source": [
        "baseline_model_preds[:60]"
      ]
    },
    {
      "cell_type": "code",
      "execution_count": null,
      "metadata": {
        "colab": {
          "base_uri": "https://localhost:8080/"
        },
        "id": "pIbjV1lfdzBQ",
        "outputId": "f21ea80b-5aab-46a5-9d76-f5c76c8ff8d1"
      },
      "outputs": [
        {
          "data": {
            "text/plain": [
              "{'accuracy': 76.0440110027507,\n",
              " 'precision': 0.7606563568777712,\n",
              " 'recall': 0.7604401100275069,\n",
              " 'f1': 0.7603682237045517}"
            ]
          },
          "execution_count": 33,
          "metadata": {},
          "output_type": "execute_result"
        }
      ],
      "source": [
        "baseline_model_results = calculate_results(val_labels_encoded, baseline_model_preds)\n",
        "baseline_model_results"
      ]
    },
    {
      "cell_type": "markdown",
      "metadata": {
        "id": "NO2jTvR5l12a"
      },
      "source": [
        "## Model 2: Pretrained Embeddings"
      ]
    },
    {
      "cell_type": "markdown",
      "metadata": {
        "id": "tqLy9Lb7mTaD"
      },
      "source": [
        "Now we built a baseline model and can compare it results with our future models.\n",
        "Model 2: Pretrained Embeddings - Universal Sentence Encoder"
      ]
    },
    {
      "cell_type": "code",
      "execution_count": null,
      "metadata": {
        "colab": {
          "base_uri": "https://localhost:8080/"
        },
        "id": "MnzAcZ-JmjlW",
        "outputId": "c48f1d99-a2e4-46bd-e846-0541684d4b40"
      },
      "outputs": [
        {
          "name": "stderr",
          "output_type": "stream",
          "text": [
            "WARNING:tensorflow:Unable to create a python object for variable <tf.Variable 'global_step:0' shape=() dtype=int32_ref> because it is a reference variable. It may not be visible to training APIs. If this is a problem, consider rebuilding the SavedModel after running tf.compat.v1.enable_resource_variables().\n",
            "WARNING:tensorflow:Unable to create a python object for variable <tf.Variable 'Embeddings_en/sharded_0:0' shape=(47060, 320) dtype=float32_ref> because it is a reference variable. It may not be visible to training APIs. If this is a problem, consider rebuilding the SavedModel after running tf.compat.v1.enable_resource_variables().\n",
            "WARNING:tensorflow:Unable to create a python object for variable <tf.Variable 'Embeddings_en/sharded_1:0' shape=(47060, 320) dtype=float32_ref> because it is a reference variable. It may not be visible to training APIs. If this is a problem, consider rebuilding the SavedModel after running tf.compat.v1.enable_resource_variables().\n",
            "WARNING:tensorflow:Unable to create a python object for variable <tf.Variable 'Embeddings_en/sharded_2:0' shape=(47060, 320) dtype=float32_ref> because it is a reference variable. It may not be visible to training APIs. If this is a problem, consider rebuilding the SavedModel after running tf.compat.v1.enable_resource_variables().\n",
            "WARNING:tensorflow:Unable to create a python object for variable <tf.Variable 'Embeddings_en/sharded_3:0' shape=(47060, 320) dtype=float32_ref> because it is a reference variable. It may not be visible to training APIs. If this is a problem, consider rebuilding the SavedModel after running tf.compat.v1.enable_resource_variables().\n",
            "WARNING:tensorflow:Unable to create a python object for variable <tf.Variable 'global_step:0' shape=() dtype=int32_ref> because it is a reference variable. It may not be visible to training APIs. If this is a problem, consider rebuilding the SavedModel after running tf.compat.v1.enable_resource_variables().\n",
            "WARNING:tensorflow:Unable to create a python object for variable <tf.Variable 'Embeddings_en/sharded_0:0' shape=(47060, 320) dtype=float32_ref> because it is a reference variable. It may not be visible to training APIs. If this is a problem, consider rebuilding the SavedModel after running tf.compat.v1.enable_resource_variables().\n",
            "WARNING:tensorflow:Unable to create a python object for variable <tf.Variable 'Embeddings_en/sharded_1:0' shape=(47060, 320) dtype=float32_ref> because it is a reference variable. It may not be visible to training APIs. If this is a problem, consider rebuilding the SavedModel after running tf.compat.v1.enable_resource_variables().\n",
            "WARNING:tensorflow:Unable to create a python object for variable <tf.Variable 'Embeddings_en/sharded_2:0' shape=(47060, 320) dtype=float32_ref> because it is a reference variable. It may not be visible to training APIs. If this is a problem, consider rebuilding the SavedModel after running tf.compat.v1.enable_resource_variables().\n",
            "WARNING:tensorflow:Unable to create a python object for variable <tf.Variable 'Embeddings_en/sharded_3:0' shape=(47060, 320) dtype=float32_ref> because it is a reference variable. It may not be visible to training APIs. If this is a problem, consider rebuilding the SavedModel after running tf.compat.v1.enable_resource_variables().\n",
            "WARNING:tensorflow:Unable to create a python object for variable <tf.Variable 'global_step:0' shape=() dtype=int32_ref> because it is a reference variable. It may not be visible to training APIs. If this is a problem, consider rebuilding the SavedModel after running tf.compat.v1.enable_resource_variables().\n",
            "WARNING:tensorflow:Unable to create a python object for variable <tf.Variable 'Embeddings_en/sharded_0:0' shape=(47060, 320) dtype=float32_ref> because it is a reference variable. It may not be visible to training APIs. If this is a problem, consider rebuilding the SavedModel after running tf.compat.v1.enable_resource_variables().\n",
            "WARNING:tensorflow:Unable to create a python object for variable <tf.Variable 'Embeddings_en/sharded_1:0' shape=(47060, 320) dtype=float32_ref> because it is a reference variable. It may not be visible to training APIs. If this is a problem, consider rebuilding the SavedModel after running tf.compat.v1.enable_resource_variables().\n",
            "WARNING:tensorflow:Unable to create a python object for variable <tf.Variable 'Embeddings_en/sharded_2:0' shape=(47060, 320) dtype=float32_ref> because it is a reference variable. It may not be visible to training APIs. If this is a problem, consider rebuilding the SavedModel after running tf.compat.v1.enable_resource_variables().\n",
            "WARNING:tensorflow:Unable to create a python object for variable <tf.Variable 'Embeddings_en/sharded_3:0' shape=(47060, 320) dtype=float32_ref> because it is a reference variable. It may not be visible to training APIs. If this is a problem, consider rebuilding the SavedModel after running tf.compat.v1.enable_resource_variables().\n",
            "WARNING:tensorflow:Unable to create a python object for variable <tf.Variable 'global_step:0' shape=() dtype=int32_ref> because it is a reference variable. It may not be visible to training APIs. If this is a problem, consider rebuilding the SavedModel after running tf.compat.v1.enable_resource_variables().\n",
            "WARNING:tensorflow:Unable to create a python object for variable <tf.Variable 'Embeddings_en/sharded_0:0' shape=(47060, 320) dtype=float32_ref> because it is a reference variable. It may not be visible to training APIs. If this is a problem, consider rebuilding the SavedModel after running tf.compat.v1.enable_resource_variables().\n",
            "WARNING:tensorflow:Unable to create a python object for variable <tf.Variable 'Embeddings_en/sharded_1:0' shape=(47060, 320) dtype=float32_ref> because it is a reference variable. It may not be visible to training APIs. If this is a problem, consider rebuilding the SavedModel after running tf.compat.v1.enable_resource_variables().\n",
            "WARNING:tensorflow:Unable to create a python object for variable <tf.Variable 'Embeddings_en/sharded_2:0' shape=(47060, 320) dtype=float32_ref> because it is a reference variable. It may not be visible to training APIs. If this is a problem, consider rebuilding the SavedModel after running tf.compat.v1.enable_resource_variables().\n",
            "WARNING:tensorflow:Unable to create a python object for variable <tf.Variable 'Embeddings_en/sharded_3:0' shape=(47060, 320) dtype=float32_ref> because it is a reference variable. It may not be visible to training APIs. If this is a problem, consider rebuilding the SavedModel after running tf.compat.v1.enable_resource_variables().\n"
          ]
        }
      ],
      "source": [
        "# Import Universal Sentence Encoder\n",
        "import tensorflow_hub as hub\n",
        "\n",
        "sentence_encoder = embed = hub.KerasLayer(\"https://kaggle.com/models/google/universal-sentence-encoder/frameworks/TensorFlow1/variations/universal-sentence-encoder/versions/2\",\n",
        "                                      input_shape=[],\n",
        "                                      trainable = False,\n",
        "                                      dtype=tf.string,\n",
        "                                      name=\"USE\")"
      ]
    },
    {
      "cell_type": "code",
      "execution_count": null,
      "metadata": {
        "id": "SM3RcW7Cng3f"
      },
      "outputs": [],
      "source": [
        "# Build a Model 2 using Functional API\n",
        "import tensorflow.keras.layers as layers\n",
        "inputs = tf.keras.Input(shape=[], dtype=tf.string)\n",
        "use_embeddings = sentence_encoder(inputs)\n",
        "x = layers.Dense(128, activation=\"relu\")(use_embeddings)\n",
        "outputs = layers.Dense(num_classes, activation=\"softmax\")(x)\n",
        "model_2 = tf.keras.Model(inputs, outputs)"
      ]
    },
    {
      "cell_type": "code",
      "execution_count": null,
      "metadata": {
        "id": "11hXAq4Pr0AR"
      },
      "outputs": [],
      "source": [
        "# Before we fit our model, we should create and optimize our dataset\n",
        "train_dataset_1 = tf.data.Dataset.from_tensor_slices((np.array(train_sentences), train_labels_one_hot))\n",
        "val_dataset_1 = tf.data.Dataset.from_tensor_slices((np.array(val_sentences), val_labels_one_hot))\n",
        "\n",
        "train_dataset_1 = train_dataset_1.batch(32).prefetch(tf.data.AUTOTUNE)\n",
        "val_dataset_1 = val_dataset_1.batch(32).prefetch(tf.data.AUTOTUNE)"
      ]
    },
    {
      "cell_type": "code",
      "execution_count": null,
      "metadata": {
        "colab": {
          "base_uri": "https://localhost:8080/"
        },
        "id": "cqVKKqjaqpBE",
        "outputId": "1599787c-db05-468b-8f79-9584c1fe5b82"
      },
      "outputs": [
        {
          "name": "stdout",
          "output_type": "stream",
          "text": [
            "Epoch 1/3\n",
            "1499/1499 [==============================] - 18s 8ms/step - loss: 0.5219 - accuracy: 0.7394\n",
            "Epoch 2/3\n",
            "1499/1499 [==============================] - 14s 10ms/step - loss: 0.5038 - accuracy: 0.7511\n",
            "Epoch 3/3\n",
            "1499/1499 [==============================] - 12s 8ms/step - loss: 0.4992 - accuracy: 0.7541\n"
          ]
        }
      ],
      "source": [
        "# Compile and fit\n",
        "model_2.compile(loss=tf.keras.losses.CategoricalCrossentropy(),\n",
        "                optimizer=tf.keras.optimizers.Adam(),\n",
        "                metrics=[\"accuracy\"])\n",
        "\n",
        "model_2_history = model_2.fit(train_dataset_1,\n",
        "                              steps_per_epoch=int(0.1 * len(train_dataset_1)),\n",
        "                              epochs=3,\n",
        "                              #validation_data=[val_sentences, val_labels_one_hot], # Error is here.\n",
        "                              #validation_steps=int(0.1 * len(val_sentences))\n",
        "                              )"
      ]
    },
    {
      "cell_type": "code",
      "execution_count": null,
      "metadata": {
        "colab": {
          "base_uri": "https://localhost:8080/"
        },
        "id": "zssXr9NbNlrS",
        "outputId": "084c4782-be5f-4516-ff8b-1907d4a1a6f0"
      },
      "outputs": [
        {
          "name": "stdout",
          "output_type": "stream",
          "text": [
            "500/500 [==============================] - 4s 8ms/step\n"
          ]
        },
        {
          "data": {
            "text/plain": [
              "{'accuracy': 75.20630157539385,\n",
              " 'precision': 0.7576280958230797,\n",
              " 'recall': 0.7520630157539385,\n",
              " 'f1': 0.7527134906260641}"
            ]
          },
          "execution_count": 39,
          "metadata": {},
          "output_type": "execute_result"
        }
      ],
      "source": [
        "# Evaluate our model\n",
        "model_2_preds_probs = model_2.predict(val_sentences)\n",
        "model_2_preds = tf.argmax(model_2_preds_probs, axis=1)\n",
        "model_2_results = calculate_results(model_2_preds, val_labels_encoded)\n",
        "model_2_results"
      ]
    },
    {
      "cell_type": "markdown",
      "metadata": {
        "id": "6YAlG7_wRHvD"
      },
      "source": [
        "## Model 3: Pretrained and char embeddings\n",
        "Model than has 2 embeddings: token and char embeddings."
      ]
    },
    {
      "cell_type": "markdown",
      "metadata": {
        "id": "LmTU1KVaTaJF"
      },
      "source": [
        "Before we start doing our model, we should create a char embeddings. Then, we can use it to build our model."
      ]
    },
    {
      "cell_type": "code",
      "execution_count": null,
      "metadata": {
        "colab": {
          "base_uri": "https://localhost:8080/"
        },
        "id": "iz6krFG4TnN9",
        "outputId": "aaa3be80-b5b9-446f-da2c-dff99e81376a"
      },
      "outputs": [
        {
          "data": {
            "text/plain": [
              "50"
            ]
          },
          "execution_count": 40,
          "metadata": {},
          "output_type": "execute_result"
        }
      ],
      "source": [
        "# What is the average number of character lenght\n",
        "char_lenghts = [len(sentence) for sentence in train_sentences]\n",
        "mean_char_lengths = round(np.mean(char_lenghts))\n",
        "mean_char_lengths"
      ]
    },
    {
      "cell_type": "code",
      "execution_count": null,
      "metadata": {
        "colab": {
          "base_uri": "https://localhost:8080/",
          "height": 517
        },
        "id": "3_PUttAllps9",
        "outputId": "203bd20c-9e41-4649-c680-c48308680efc"
      },
      "outputs": [
        {
          "data": {
            "text/plain": [
              "(array([4.3594e+05, 4.3775e+04, 8.8000e+01, 4.4000e+01, 2.6000e+01,\n",
              "        2.0000e+00, 4.0000e+00]),\n",
              " array([  1.        ,  88.42857143, 175.85714286, 263.28571429,\n",
              "        350.71428571, 438.14285714, 525.57142857, 613.        ]),\n",
              " <BarContainer object of 7 artists>)"
            ]
          },
          "execution_count": 41,
          "metadata": {},
          "output_type": "execute_result"
        },
        {
          "data": {
            "image/png": "[encoded data removed]",
            "text/plain": [
              "<Figure size 640x480 with 1 Axes>"
            ]
          },
          "metadata": {},
          "output_type": "display_data"
        }
      ],
      "source": [
        "# Check distribution\n",
        "import matplotlib.pyplot as plt\n",
        "plt.hist(char_lenghts, bins=7)"
      ]
    },
    {
      "cell_type": "code",
      "execution_count": null,
      "metadata": {
        "colab": {
          "base_uri": "https://localhost:8080/"
        },
        "id": "KuerarUvl_OY",
        "outputId": "9988b1cb-e05f-42ab-fd8e-076354a27bc3"
      },
      "outputs": [
        {
          "data": {
            "text/plain": [
              "102"
            ]
          },
          "execution_count": 42,
          "metadata": {},
          "output_type": "execute_result"
        }
      ],
      "source": [
        "# Find what character length covers 97% of sequences\n",
        "output_seq_char_len = int(np.percentile(char_lenghts, 97))\n",
        "output_seq_char_len"
      ]
    },
    {
      "cell_type": "code",
      "execution_count": null,
      "metadata": {
        "id": "6l6xAp__m0lk"
      },
      "outputs": [],
      "source": [
        "# Get all keybord characters\n",
        "import string\n",
        "alphabet = string.ascii_lowercase + string.punctuation + string.digits\n",
        "alphabet = len(alphabet)"
      ]
    },
    {
      "cell_type": "code",
      "execution_count": null,
      "metadata": {
        "id": "kn6d_1FanWsm"
      },
      "outputs": [],
      "source": [
        "# Create a Char Vectorization\n",
        "NUM_CHAR_TOKENS = alphabet + 2\n",
        "char_vectorizer = tf.keras.layers.TextVectorization(max_tokens=NUM_CHAR_TOKENS,\n",
        "                                                    standardize=\"lower_and_strip_punctuation\",\n",
        "                                                    output_sequence_length=output_seq_char_len,\n",
        "                                                    name=\"char_vectorizer\")\n",
        "char_vectorizer.adapt(train_char_sentences)"
      ]
    },
    {
      "cell_type": "code",
      "execution_count": null,
      "metadata": {
        "colab": {
          "base_uri": "https://localhost:8080/"
        },
        "id": "cRgIy-arpOdZ",
        "outputId": "05ee1c17-de91-479e-cbbe-a008ea9a52d4"
      },
      "outputs": [
        {
          "name": "stdout",
          "output_type": "stream",
          "text": [
            "Get 5 most used chars: ['', '[UNK]', 'e', 'n', 'o']\n",
            "Get 5 least used chars: ['²', '©', '\\x84', '§', 'ª']\n"
          ]
        }
      ],
      "source": [
        "# Let's build our Char Embeddings\n",
        "char_vocab = char_vectorizer.get_vocabulary()\n",
        "print(f\"Get 5 most used chars: {char_vocab[:5]}\")\n",
        "print(f\"Get 5 least used chars: {char_vocab[-5:]}\")"
      ]
    },
    {
      "cell_type": "code",
      "execution_count": null,
      "metadata": {
        "id": "fqdRn71D9QJC"
      },
      "outputs": [],
      "source": [
        "# Let's create our char dataset\n",
        "train_char_dataset = tf.data.Dataset.from_tensor_slices((train_char_sentences, train_labels_one_hot))\n",
        "val_char_dataset = tf.data.Dataset.from_tensor_slices((val_char_sentences, val_labels_one_hot))"
      ]
    },
    {
      "cell_type": "code",
      "execution_count": null,
      "metadata": {
        "colab": {
          "base_uri": "https://localhost:8080/"
        },
        "id": "l472UCXKAQuw",
        "outputId": "d2607799-612e-4f68-aea0-24e57e66d0fe"
      },
      "outputs": [
        {
          "name": "stderr",
          "output_type": "stream",
          "text": [
            "WARNING:tensorflow:Layer lstm will not use cuDNN kernels since it doesn't meet the criteria. It will use a generic GPU kernel as fallback when running on GPU.\n",
            "WARNING:tensorflow:Layer lstm will not use cuDNN kernels since it doesn't meet the criteria. It will use a generic GPU kernel as fallback when running on GPU.\n",
            "WARNING:tensorflow:Layer lstm will not use cuDNN kernels since it doesn't meet the criteria. It will use a generic GPU kernel as fallback when running on GPU.\n"
          ]
        }
      ],
      "source": [
        "# Creating our Char Embeddings\n",
        "char_embeddings = tf.keras.layers.Embedding(input_dim=len(char_vocab),\n",
        "                                             output_dim=56,\n",
        "                                             mask_zero=True,\n",
        "                                             name=\"char_embeddings\")\n",
        "\n",
        "# Create word embedding\n",
        "inputs = tf.keras.Input(shape=[], dtype=tf.string)\n",
        "use_embeddings = sentence_encoder(inputs)\n",
        "outputs = layers.Dense(128, activation=\"relu\")(use_embeddings)\n",
        "token_model = tf.keras.Model(inputs, outputs)\n",
        "\n",
        "# Create char embeddings\n",
        "inputs = tf.keras.Input(shape=[1, ], dtype=tf.string)\n",
        "char_vec = char_vectorizer(inputs)\n",
        "char_embeddings = char_embeddings(char_vec)\n",
        "outputs = layers.Bidirectional(layers.LSTM(64, activation=\"relu\"))(char_embeddings)\n",
        "char_model = tf.keras.Model(inputs, outputs)\n",
        "\n",
        "# Concatenate the two models into 1.\n",
        "char_embed_model = tf.keras.layers.Concatenate(name=\"char_embed_model\", axis=1)([token_model.output, char_model.output])\n",
        "\n",
        "# Add some optimization\n",
        "x = layers.Dense(256, activation=\"relu\")(char_embed_model)\n",
        "dropout_layer = layers.Dropout(0.2)(x)\n",
        "outputs = layers.Dense(num_classes, activation=\"softmax\")(dropout_layer)\n",
        "model_3 = tf.keras.Model(inputs=[token_model.input,\n",
        "                                 char_model.input],\n",
        "                                 outputs=outputs)"
      ]
    },
    {
      "cell_type": "code",
      "execution_count": null,
      "metadata": {
        "colab": {
          "base_uri": "https://localhost:8080/"
        },
        "id": "0QGPhRHNxcUr",
        "outputId": "c8b600d4-b26c-4470-9b9c-8367d4ca53ab"
      },
      "outputs": [
        {
          "name": "stdout",
          "output_type": "stream",
          "text": [
            "Model: \"model_3\"\n",
            "__________________________________________________________________________________________________\n",
            " Layer (type)                Output Shape                 Param #   Connected to                  \n",
            "==================================================================================================\n",
            " input_3 (InputLayer)        [(None, 1)]                  0         []                            \n",
            "                                                                                                  \n",
            " input_2 (InputLayer)        [(None,)]                    0         []                            \n",
            "                                                                                                  \n",
            " char_vectorizer (TextVecto  (None, 102)                  0         ['input_3[0][0]']             \n",
            " rization)                                                                                        \n",
            "                                                                                                  \n",
            " USE (KerasLayer)            (None, 512)                  0         ['input_2[0][0]']             \n",
            "                                                                                                  \n",
            " char_embeddings (Embedding  (None, 102, 56)              3920      ['char_vectorizer[0][0]']     \n",
            " )                                                                                                \n",
            "                                                                                                  \n",
            " dense_2 (Dense)             (None, 128)                  65664     ['USE[1][0]']                 \n",
            "                                                                                                  \n",
            " bidirectional (Bidirection  (None, 128)                  61952     ['char_embeddings[0][0]']     \n",
            " al)                                                                                              \n",
            "                                                                                                  \n",
            " char_embed_model (Concaten  (None, 256)                  0         ['dense_2[0][0]',             \n",
            " ate)                                                                'bidirectional[0][0]']       \n",
            "                                                                                                  \n",
            " dense_3 (Dense)             (None, 256)                  65792     ['char_embed_model[0][0]']    \n",
            "                                                                                                  \n",
            " dropout (Dropout)           (None, 256)                  0         ['dense_3[0][0]']             \n",
            "                                                                                                  \n",
            " dense_4 (Dense)             (None, 2)                    514       ['dropout[0][0]']             \n",
            "                                                                                                  \n",
            "==================================================================================================\n",
            "Total params: 197842 (772.82 KB)\n",
            "Trainable params: 197842 (772.82 KB)\n",
            "Non-trainable params: 0 (0.00 Byte)\n",
            "__________________________________________________________________________________________________\n"
          ]
        }
      ],
      "source": [
        "model_3.summary()"
      ]
    },
    {
      "cell_type": "code",
      "execution_count": null,
      "metadata": {
        "colab": {
          "base_uri": "https://localhost:8080/",
          "height": 865
        },
        "id": "m11C21rz0zJp",
        "outputId": "079e7608-62f3-49f3-d816-36511958e0b5"
      },
      "outputs": [
        {
          "data": {
            "image/png": "[encoded data removed]",
            "text/plain": [
              "<IPython.core.display.Image object>"
            ]
          },
          "execution_count": 49,
          "metadata": {},
          "output_type": "execute_result"
        }
      ],
      "source": [
        "from tensorflow.keras.utils import plot_model\n",
        "plot_model(model_3, show_shapes=True)"
      ]
    },
    {
      "cell_type": "code",
      "execution_count": null,
      "metadata": {
        "id": "bqNNaYHk1Q4V"
      },
      "outputs": [],
      "source": [
        "train_token_char_dataset = tf.data.Dataset.from_tensor_slices(((train_sentences, train_char_sentences), train_labels_one_hot))\n",
        "val_token_char_dataset = tf.data.Dataset.from_tensor_slices(((val_sentences, val_char_sentences), val_labels_one_hot))\n",
        "\n",
        "\n",
        "train_token_char_dataset = train_token_char_dataset.batch(32).prefetch(tf.data.AUTOTUNE)\n",
        "val_token_char_dataset = val_token_char_dataset.batch(32).prefetch(tf.data.AUTOTUNE)"
      ]
    },
    {
      "cell_type": "code",
      "execution_count": null,
      "metadata": {
        "colab": {
          "base_uri": "https://localhost:8080/"
        },
        "id": "hM5nhJ-W4zlP",
        "outputId": "d14b245d-06e8-452f-c189-987ae61bfa86"
      },
      "outputs": [
        {
          "name": "stderr",
          "output_type": "stream",
          "text": [
            "WARNING:absl:`lr` is deprecated in Keras optimizer, please use `learning_rate` or use the legacy optimizer, e.g.,tf.keras.optimizers.legacy.Adam.\n"
          ]
        }
      ],
      "source": [
        "model_3.compile(loss=tf.keras.losses.CategoricalCrossentropy(),\n",
        "                optimizer=tf.keras.optimizers.Adam(lr=0.01),\n",
        "                metrics=[\"accuracy\"])"
      ]
    },
    {
      "cell_type": "code",
      "execution_count": null,
      "metadata": {
        "colab": {
          "base_uri": "https://localhost:8080/"
        },
        "id": "TVmJ2dRr4mOL",
        "outputId": "dd3096cc-003b-434c-d469-54c1a43c8940"
      },
      "outputs": [
        {
          "name": "stdout",
          "output_type": "stream",
          "text": [
            "Epoch 1/3\n",
            "1499/1499 [==============================] - 721s 476ms/step - loss: 0.5215 - accuracy: 0.7385 - val_loss: 0.5057 - val_accuracy: 0.7619\n",
            "Epoch 2/3\n",
            "1499/1499 [==============================] - 708s 472ms/step - loss: 0.5023 - accuracy: 0.7527 - val_loss: 0.5007 - val_accuracy: 0.7569\n",
            "Epoch 3/3\n",
            "1499/1499 [==============================] - 713s 476ms/step - loss: 0.4982 - accuracy: 0.7568 - val_loss: 0.4946 - val_accuracy: 0.7569\n"
          ]
        }
      ],
      "source": [
        "# Fit the model\n",
        "\n",
        "model_3_history = model_3.fit(train_token_char_dataset,\n",
        "                              steps_per_epoch=int(0.1 * len(train_token_char_dataset)),\n",
        "                              epochs=3,\n",
        "                              validation_data=[val_token_char_dataset],\n",
        "                              validation_steps = int(0.1 * len(val_token_char_dataset)))"
      ]
    },
    {
      "cell_type": "code",
      "execution_count": null,
      "metadata": {
        "colab": {
          "base_uri": "https://localhost:8080/"
        },
        "id": "ujiHCfCB3Z4U",
        "outputId": "df56c425-8816-4e35-8d9e-986599a79436"
      },
      "outputs": [
        {
          "name": "stdout",
          "output_type": "stream",
          "text": [
            "500/500 [==============================] - 28s 55ms/step\n"
          ]
        }
      ],
      "source": [
        "# Evaluate our model\n",
        "model_3_preds_probs = model_3.predict(val_token_char_dataset)\n",
        "model_3_preds = tf.argmax(model_3_preds_probs, axis=1)"
      ]
    },
    {
      "cell_type": "code",
      "execution_count": null,
      "metadata": {
        "colab": {
          "base_uri": "https://localhost:8080/"
        },
        "id": "u_upHRkV4YwI",
        "outputId": "abcf45d4-1e0c-4fc9-c95b-e15c4f3524d8"
      },
      "outputs": [
        {
          "data": {
            "text/plain": [
              "{'accuracy': 75.28132033008252,\n",
              " 'precision': 0.7564722765750227,\n",
              " 'recall': 0.7528132033008252,\n",
              " 'f1': 0.7520171534974118}"
            ]
          },
          "execution_count": 54,
          "metadata": {},
          "output_type": "execute_result"
        }
      ],
      "source": [
        "model_3_results = calculate_results(val_labels_encoded, model_3_preds)\n",
        "model_3_results"
      ]
    },
    {
      "cell_type": "markdown",
      "metadata": {
        "id": "-PnuDcX7_6OY"
      },
      "source": [
        "### Save model_2 and model_3 (**optional**)\n",
        "\n"
      ]
    },
    {
      "cell_type": "code",
      "execution_count": null,
      "metadata": {
        "id": "smm5wvxZ_-iC"
      },
      "outputs": [],
      "source": [
        "## Uncomment for your needs\n",
        "\n",
        "#model_3.save(\"model_3\")\n",
        "#model_2.save(\"model_2\")\n",
        "#\n",
        "## Model_2\n",
        "#!zip -r /content/model_2.zip /content/model_2\n",
        "#\n",
        "#from google.colab import files\n",
        "#files.download(\"/content/model_2.zip\")\n",
        "#\n",
        "## Model_3\n",
        "#!zip -r /content/model_3.zip /content/model\n",
        "#\n",
        "#from google.colab import files\n",
        "#files.download(\"/content/model_3.zip\")"
      ]
    },
    {
      "cell_type": "markdown",
      "metadata": {
        "id": "wCSieEq78hlX"
      },
      "source": [
        "# Compare the results"
      ]
    },
    {
      "cell_type": "code",
      "execution_count": null,
      "metadata": {
        "colab": {
          "base_uri": "https://localhost:8080/"
        },
        "id": "U6nunlvy-dUJ",
        "outputId": "6f9ff6c1-f304-4096-b5ab-4e4d1c3f9c35"
      },
      "outputs": [
        {
          "data": {
            "text/plain": [
              "({'accuracy': 76.0440110027507,\n",
              "  'precision': 0.7606563568777712,\n",
              "  'recall': 0.7604401100275069,\n",
              "  'f1': 0.7603682237045517},\n",
              " {'accuracy': 75.20630157539385,\n",
              "  'precision': 0.7576280958230797,\n",
              "  'recall': 0.7520630157539385,\n",
              "  'f1': 0.7527134906260641},\n",
              " {'accuracy': 75.28132033008252,\n",
              "  'precision': 0.7564722765750227,\n",
              "  'recall': 0.7528132033008252,\n",
              "  'f1': 0.7520171534974118})"
            ]
          },
          "execution_count": 56,
          "metadata": {},
          "output_type": "execute_result"
        }
      ],
      "source": [
        "baseline_model_results, model_2_results, model_3_results"
      ]
    },
    {
      "cell_type": "code",
      "execution_count": null,
      "metadata": {
        "id": "pXw433pEAogM"
      },
      "outputs": [],
      "source": [
        "import pandas as pd"
      ]
    },
    {
      "cell_type": "code",
      "execution_count": null,
      "metadata": {
        "colab": {
          "base_uri": "https://localhost:8080/",
          "height": 143
        },
        "id": "jDMUkkgX68JR",
        "outputId": "39bcf2a3-f68f-4b94-e008-9546a96bac47"
      },
      "outputs": [
        {
          "data": {
            "application/vnd.google.colaboratory.intrinsic+json": {
              "summary": "{\n  \"name\": \"model_results\",\n  \"rows\": 3,\n  \"fields\": [\n    {\n      \"column\": \"accuracy\",\n      \"properties\": {\n        \"dtype\": \"number\",\n        \"std\": 0.004635159041522696,\n        \"min\": 0.7520630157539385,\n        \"max\": 0.7604401100275069,\n        \"num_unique_values\": 3,\n        \"samples\": [\n          0.7604401100275069,\n          0.7520630157539385,\n          0.7528132033008252\n        ],\n        \"semantic_type\": \"\",\n        \"description\": \"\"\n      }\n    },\n    {\n      \"column\": \"precision\",\n      \"properties\": {\n        \"dtype\": \"number\",\n        \"std\": 0.002160741042998475,\n        \"min\": 0.7564722765750227,\n        \"max\": 0.7606563568777712,\n        \"num_unique_values\": 3,\n        \"samples\": [\n          0.7606563568777712,\n          0.7576280958230797,\n          0.7564722765750227\n        ],\n        \"semantic_type\": \"\",\n        \"description\": \"\"\n      }\n    },\n    {\n      \"column\": \"recall\",\n      \"properties\": {\n        \"dtype\": \"number\",\n        \"std\": 0.004635159041522696,\n        \"min\": 0.7520630157539385,\n        \"max\": 0.7604401100275069,\n        \"num_unique_values\": 3,\n        \"samples\": [\n          0.7604401100275069,\n          0.7520630157539385,\n          0.7528132033008252\n        ],\n        \"semantic_type\": \"\",\n        \"description\": \"\"\n      }\n    },\n    {\n      \"column\": \"f1\",\n      \"properties\": {\n        \"dtype\": \"number\",\n        \"std\": 0.0046335766873300595,\n        \"min\": 0.7520171534974118,\n        \"max\": 0.7603682237045517,\n        \"num_unique_values\": 3,\n        \"samples\": [\n          0.7603682237045517,\n          0.7527134906260641,\n          0.7520171534974118\n        ],\n        \"semantic_type\": \"\",\n        \"description\": \"\"\n      }\n    }\n  ]\n}",
              "type": "dataframe",
              "variable_name": "model_results"
            },
            "text/html": [
              "\n",
              "  <div id=\"df-66531cdd-20a5-44d3-8e9f-0695e55b6a23\" class=\"colab-df-container\">\n",
              "    <div>\n",
              "<style scoped>\n",
              "    .dataframe tbody tr th:only-of-type {\n",
              "        vertical-align: middle;\n",
              "    }\n",
              "\n",
              "    .dataframe tbody tr th {\n",
              "        vertical-align: top;\n",
              "    }\n",
              "\n",
              "    .dataframe thead th {\n",
              "        text-align: right;\n",
              "    }\n",
              "</style>\n",
              "<table border=\"1\" class=\"dataframe\">\n",
              "  <thead>\n",
              "    <tr style=\"text-align: right;\">\n",
              "      <th></th>\n",
              "      <th>accuracy</th>\n",
              "      <th>precision</th>\n",
              "      <th>recall</th>\n",
              "      <th>f1</th>\n",
              "    </tr>\n",
              "  </thead>\n",
              "  <tbody>\n",
              "    <tr>\n",
              "      <th>baseline_results</th>\n",
              "      <td>0.760440</td>\n",
              "      <td>0.760656</td>\n",
              "      <td>0.760440</td>\n",
              "      <td>0.760368</td>\n",
              "    </tr>\n",
              "    <tr>\n",
              "      <th>model_2_results</th>\n",
              "      <td>0.752063</td>\n",
              "      <td>0.757628</td>\n",
              "      <td>0.752063</td>\n",
              "      <td>0.752713</td>\n",
              "    </tr>\n",
              "    <tr>\n",
              "      <th>model_3_results</th>\n",
              "      <td>0.752813</td>\n",
              "      <td>0.756472</td>\n",
              "      <td>0.752813</td>\n",
              "      <td>0.752017</td>\n",
              "    </tr>\n",
              "  </tbody>\n",
              "</table>\n",
              "</div>\n",
              "    <div class=\"colab-df-buttons\">\n",
              "\n",
              "  <div class=\"colab-df-container\">\n",
              "    <button class=\"colab-df-convert\" onclick=\"convertToInteractive('df-66531cdd-20a5-44d3-8e9f-0695e55b6a23')\"\n",
              "            title=\"Convert this dataframe to an interactive table.\"\n",
              "            style=\"display:none;\">\n",
              "\n",
              "  <svg xmlns=\"http://www.w3.org/2000/svg\" height=\"24px\" viewBox=\"0 -960 960 960\">\n",
              "    <path d=\"M120-120v-720h720v720H120Zm60-500h600v-160H180v160Zm220 220h160v-160H400v160Zm0 220h160v-160H400v160ZM180-400h160v-160H180v160Zm440 0h160v-160H620v160ZM180-180h160v-160H180v160Zm440 0h160v-160H620v160Z\"/>\n",
              "  </svg>\n",
              "    </button>\n",
              "\n",
              "  <style>\n",
              "    .colab-df-container {\n",
              "      display:flex;\n",
              "      gap: 12px;\n",
              "    }\n",
              "\n",
              "    .colab-df-convert {\n",
              "      background-color: #E8F0FE;\n",
              "      border: none;\n",
              "      border-radius: 50%;\n",
              "      cursor: pointer;\n",
              "      display: none;\n",
              "      fill: #1967D2;\n",
              "      height: 32px;\n",
              "      padding: 0 0 0 0;\n",
              "      width: 32px;\n",
              "    }\n",
              "\n",
              "    .colab-df-convert:hover {\n",
              "      background-color: #E2EBFA;\n",
              "      box-shadow: 0px 1px 2px rgba(60, 64, 67, 0.3), 0px 1px 3px 1px rgba(60, 64, 67, 0.15);\n",
              "      fill: #174EA6;\n",
              "    }\n",
              "\n",
              "    .colab-df-buttons div {\n",
              "      margin-bottom: 4px;\n",
              "    }\n",
              "\n",
              "    [theme=dark] .colab-df-convert {\n",
              "      background-color: #3B4455;\n",
              "      fill: #D2E3FC;\n",
              "    }\n",
              "\n",
              "    [theme=dark] .colab-df-convert:hover {\n",
              "      background-color: #434B5C;\n",
              "      box-shadow: 0px 1px 3px 1px rgba(0, 0, 0, 0.15);\n",
              "      filter: drop-shadow(0px 1px 2px rgba(0, 0, 0, 0.3));\n",
              "      fill: #FFFFFF;\n",
              "    }\n",
              "  </style>\n",
              "\n",
              "    <script>\n",
              "      const buttonEl =\n",
              "        document.querySelector('#df-66531cdd-20a5-44d3-8e9f-0695e55b6a23 button.colab-df-convert');\n",
              "      buttonEl.style.display =\n",
              "        google.colab.kernel.accessAllowed ? 'block' : 'none';\n",
              "\n",
              "      async function convertToInteractive(key) {\n",
              "        const element = document.querySelector('#df-66531cdd-20a5-44d3-8e9f-0695e55b6a23');\n",
              "        const dataTable =\n",
              "          await google.colab.kernel.invokeFunction('convertToInteractive',\n",
              "                                                    [key], {});\n",
              "        if (!dataTable) return;\n",
              "\n",
              "        const docLinkHtml = 'Like what you see? Visit the ' +\n",
              "          '<a target=\"_blank\" href=https://colab.research.google.com/notebooks/data_table.ipynb>data table notebook</a>'\n",
              "          + ' to learn more about interactive tables.';\n",
              "        element.innerHTML = '';\n",
              "        dataTable['output_type'] = 'display_data';\n",
              "        await google.colab.output.renderOutput(dataTable, element);\n",
              "        const docLink = document.createElement('div');\n",
              "        docLink.innerHTML = docLinkHtml;\n",
              "        element.appendChild(docLink);\n",
              "      }\n",
              "    </script>\n",
              "  </div>\n",
              "\n",
              "\n",
              "<div id=\"df-d97cbadc-9906-4aaf-9143-2f8d7902e661\">\n",
              "  <button class=\"colab-df-quickchart\" onclick=\"quickchart('df-d97cbadc-9906-4aaf-9143-2f8d7902e661')\"\n",
              "            title=\"Suggest charts\"\n",
              "            style=\"display:none;\">\n",
              "\n",
              "<svg xmlns=\"http://www.w3.org/2000/svg\" height=\"24px\"viewBox=\"0 0 24 24\"\n",
              "     width=\"24px\">\n",
              "    <g>\n",
              "        <path d=\"M19 3H5c-1.1 0-2 .9-2 2v14c0 1.1.9 2 2 2h14c1.1 0 2-.9 2-2V5c0-1.1-.9-2-2-2zM9 17H7v-7h2v7zm4 0h-2V7h2v10zm4 0h-2v-4h2v4z\"/>\n",
              "    </g>\n",
              "</svg>\n",
              "  </button>\n",
              "\n",
              "<style>\n",
              "  .colab-df-quickchart {\n",
              "      --bg-color: #E8F0FE;\n",
              "      --fill-color: #1967D2;\n",
              "      --hover-bg-color: #E2EBFA;\n",
              "      --hover-fill-color: #174EA6;\n",
              "      --disabled-fill-color: #AAA;\n",
              "      --disabled-bg-color: #DDD;\n",
              "  }\n",
              "\n",
              "  [theme=dark] .colab-df-quickchart {\n",
              "      --bg-color: #3B4455;\n",
              "      --fill-color: #D2E3FC;\n",
              "      --hover-bg-color: #434B5C;\n",
              "      --hover-fill-color: #FFFFFF;\n",
              "      --disabled-bg-color: #3B4455;\n",
              "      --disabled-fill-color: #666;\n",
              "  }\n",
              "\n",
              "  .colab-df-quickchart {\n",
              "    background-color: var(--bg-color);\n",
              "    border: none;\n",
              "    border-radius: 50%;\n",
              "    cursor: pointer;\n",
              "    display: none;\n",
              "    fill: var(--fill-color);\n",
              "    height: 32px;\n",
              "    padding: 0;\n",
              "    width: 32px;\n",
              "  }\n",
              "\n",
              "  .colab-df-quickchart:hover {\n",
              "    background-color: var(--hover-bg-color);\n",
              "    box-shadow: 0 1px 2px rgba(60, 64, 67, 0.3), 0 1px 3px 1px rgba(60, 64, 67, 0.15);\n",
              "    fill: var(--button-hover-fill-color);\n",
              "  }\n",
              "\n",
              "  .colab-df-quickchart-complete:disabled,\n",
              "  .colab-df-quickchart-complete:disabled:hover {\n",
              "    background-color: var(--disabled-bg-color);\n",
              "    fill: var(--disabled-fill-color);\n",
              "    box-shadow: none;\n",
              "  }\n",
              "\n",
              "  .colab-df-spinner {\n",
              "    border: 2px solid var(--fill-color);\n",
              "    border-color: transparent;\n",
              "    border-bottom-color: var(--fill-color);\n",
              "    animation:\n",
              "      spin 1s steps(1) infinite;\n",
              "  }\n",
              "\n",
              "  @keyframes spin {\n",
              "    0% {\n",
              "      border-color: transparent;\n",
              "      border-bottom-color: var(--fill-color);\n",
              "      border-left-color: var(--fill-color);\n",
              "    }\n",
              "    20% {\n",
              "      border-color: transparent;\n",
              "      border-left-color: var(--fill-color);\n",
              "      border-top-color: var(--fill-color);\n",
              "    }\n",
              "    30% {\n",
              "      border-color: transparent;\n",
              "      border-left-color: var(--fill-color);\n",
              "      border-top-color: var(--fill-color);\n",
              "      border-right-color: var(--fill-color);\n",
              "    }\n",
              "    40% {\n",
              "      border-color: transparent;\n",
              "      border-right-color: var(--fill-color);\n",
              "      border-top-color: var(--fill-color);\n",
              "    }\n",
              "    60% {\n",
              "      border-color: transparent;\n",
              "      border-right-color: var(--fill-color);\n",
              "    }\n",
              "    80% {\n",
              "      border-color: transparent;\n",
              "      border-right-color: var(--fill-color);\n",
              "      border-bottom-color: var(--fill-color);\n",
              "    }\n",
              "    90% {\n",
              "      border-color: transparent;\n",
              "      border-bottom-color: var(--fill-color);\n",
              "    }\n",
              "  }\n",
              "</style>\n",
              "\n",
              "  <script>\n",
              "    async function quickchart(key) {\n",
              "      const quickchartButtonEl =\n",
              "        document.querySelector('#' + key + ' button');\n",
              "      quickchartButtonEl.disabled = true;  // To prevent multiple clicks.\n",
              "      quickchartButtonEl.classList.add('colab-df-spinner');\n",
              "      try {\n",
              "        const charts = await google.colab.kernel.invokeFunction(\n",
              "            'suggestCharts', [key], {});\n",
              "      } catch (error) {\n",
              "        console.error('Error during call to suggestCharts:', error);\n",
              "      }\n",
              "      quickchartButtonEl.classList.remove('colab-df-spinner');\n",
              "      quickchartButtonEl.classList.add('colab-df-quickchart-complete');\n",
              "    }\n",
              "    (() => {\n",
              "      let quickchartButtonEl =\n",
              "        document.querySelector('#df-d97cbadc-9906-4aaf-9143-2f8d7902e661 button');\n",
              "      quickchartButtonEl.style.display =\n",
              "        google.colab.kernel.accessAllowed ? 'block' : 'none';\n",
              "    })();\n",
              "  </script>\n",
              "</div>\n",
              "\n",
              "  <div id=\"id_924e31c8-05e7-4f7c-8d8d-1deb437af769\">\n",
              "    <style>\n",
              "      .colab-df-generate {\n",
              "        background-color: #E8F0FE;\n",
              "        border: none;\n",
              "        border-radius: 50%;\n",
              "        cursor: pointer;\n",
              "        display: none;\n",
              "        fill: #1967D2;\n",
              "        height: 32px;\n",
              "        padding: 0 0 0 0;\n",
              "        width: 32px;\n",
              "      }\n",
              "\n",
              "      .colab-df-generate:hover {\n",
              "        background-color: #E2EBFA;\n",
              "        box-shadow: 0px 1px 2px rgba(60, 64, 67, 0.3), 0px 1px 3px 1px rgba(60, 64, 67, 0.15);\n",
              "        fill: #174EA6;\n",
              "      }\n",
              "\n",
              "      [theme=dark] .colab-df-generate {\n",
              "        background-color: #3B4455;\n",
              "        fill: #D2E3FC;\n",
              "      }\n",
              "\n",
              "      [theme=dark] .colab-df-generate:hover {\n",
              "        background-color: #434B5C;\n",
              "        box-shadow: 0px 1px 3px 1px rgba(0, 0, 0, 0.15);\n",
              "        filter: drop-shadow(0px 1px 2px rgba(0, 0, 0, 0.3));\n",
              "        fill: #FFFFFF;\n",
              "      }\n",
              "    </style>\n",
              "    <button class=\"colab-df-generate\" onclick=\"generateWithVariable('model_results')\"\n",
              "            title=\"Generate code using this dataframe.\"\n",
              "            style=\"display:none;\">\n",
              "\n",
              "  <svg xmlns=\"http://www.w3.org/2000/svg\" height=\"24px\"viewBox=\"0 0 24 24\"\n",
              "       width=\"24px\">\n",
              "    <path d=\"M7,19H8.4L18.45,9,17,7.55,7,17.6ZM5,21V16.75L18.45,3.32a2,2,0,0,1,2.83,0l1.4,1.43a1.91,1.91,0,0,1,.58,1.4,1.91,1.91,0,0,1-.58,1.4L9.25,21ZM18.45,9,17,7.55Zm-12,3A5.31,5.31,0,0,0,4.9,8.1,5.31,5.31,0,0,0,1,6.5,5.31,5.31,0,0,0,4.9,4.9,5.31,5.31,0,0,0,6.5,1,5.31,5.31,0,0,0,8.1,4.9,5.31,5.31,0,0,0,12,6.5,5.46,5.46,0,0,0,6.5,12Z\"/>\n",
              "  </svg>\n",
              "    </button>\n",
              "    <script>\n",
              "      (() => {\n",
              "      const buttonEl =\n",
              "        document.querySelector('#id_924e31c8-05e7-4f7c-8d8d-1deb437af769 button.colab-df-generate');\n",
              "      buttonEl.style.display =\n",
              "        google.colab.kernel.accessAllowed ? 'block' : 'none';\n",
              "\n",
              "      buttonEl.onclick = () => {\n",
              "        google.colab.notebook.generateWithVariable('model_results');\n",
              "      }\n",
              "      })();\n",
              "    </script>\n",
              "  </div>\n",
              "\n",
              "    </div>\n",
              "  </div>\n"
            ],
            "text/plain": [
              "                  accuracy  precision    recall        f1\n",
              "baseline_results  0.760440   0.760656  0.760440  0.760368\n",
              "model_2_results   0.752063   0.757628  0.752063  0.752713\n",
              "model_3_results   0.752813   0.756472  0.752813  0.752017"
            ]
          },
          "execution_count": 58,
          "metadata": {},
          "output_type": "execute_result"
        }
      ],
      "source": [
        "# Compare the results\n",
        "model_results = pd.DataFrame({\"baseline_results\": baseline_model_results,\n",
        "                              \"model_2_results\": model_2_results,\n",
        "                              \"model_3_results\": model_3_results})\n",
        "\n",
        "model_results = model_results.transpose()\n",
        "model_results[\"accuracy\"] = model_results[\"accuracy\"] / 100\n",
        "model_results"
      ]
    },
    {
      "cell_type": "code",
      "execution_count": null,
      "metadata": {
        "colab": {
          "base_uri": "https://localhost:8080/",
          "height": 698
        },
        "id": "GmfC1hyp8nZx",
        "outputId": "36e0d9a6-742d-4c00-822b-07d0963381b0"
      },
      "outputs": [
        {
          "data": {
            "image/png": "[encoded data removed]",
            "text/plain": [
              "<Figure size 1000x700 with 1 Axes>"
            ]
          },
          "metadata": {},
          "output_type": "display_data"
        }
      ],
      "source": [
        "# Plot the results\n",
        "model_results.plot(kind=\"bar\", figsize=(10, 7)).legend(bbox_to_anchor=(1.0, 1.0))\n",
        "plt.ylabel(\"Accuracy\")\n",
        "plt.show()"
      ]
    },
    {
      "cell_type": "markdown",
      "metadata": {
        "id": "fS55FDsFEywP"
      },
      "source": []
    }
  ],
  "metadata": {
    "accelerator": "GPU",
    "colab": {
      "gpuType": "T4",
      "provenance": []
    },
    "kernelspec": {
      "display_name": "base",
      "language": "python",
      "name": "python3"
    },
    "language_info": {
      "codemirror_mode": {
        "name": "ipython",
        "version": 3
      },
      "file_extension": ".py",
      "mimetype": "text/x-python",
      "name": "python",
      "nbconvert_exporter": "python",
      "pygments_lexer": "ipython3",
      "version": "3.12.4"
    }
  },
  "nbformat": 4,
  "nbformat_minor": 0
}
